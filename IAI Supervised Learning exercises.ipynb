{
  "nbformat": 4,
  "nbformat_minor": 0,
  "metadata": {
    "colab": {
      "provenance": [],
      "collapsed_sections": [
        "QGvtnFTd1Nmi",
        "7slm0SPo6rhi",
        "eeLUyDj4TTVr"
      ],
      "include_colab_link": true
    },
    "kernelspec": {
      "name": "python3",
      "display_name": "Python 3"
    }
  },
  "cells": [
    {
      "cell_type": "markdown",
      "metadata": {
        "id": "view-in-github",
        "colab_type": "text"
      },
      "source": [
        "<a href=\"https://colab.research.google.com/github/ASingh-AGH/AI_Collab/blob/main/IAI%20Supervised%20Learning%20exercises.ipynb\" target=\"_parent\"><img src=\"https://colab.research.google.com/assets/colab-badge.svg\" alt=\"Open In Colab\"/></a>"
      ]
    },
    {
      "cell_type": "markdown",
      "metadata": {
        "id": "RpPbAyOVQmZ1"
      },
      "source": [
        "# **Introduction to Artificial Intelligence**\n",
        "\n",
        "## Supervised Learning"
      ]
    },
    {
      "cell_type": "markdown",
      "metadata": {
        "id": "_JpijXn0Susu"
      },
      "source": [
        "## Beginning"
      ]
    },
    {
      "cell_type": "markdown",
      "metadata": {
        "id": "QGvtnFTd1Nmi"
      },
      "source": [
        "### Part 1: Review questions\n",
        "Try to answer the following questions.\n",
        "\n",
        "**Put the answers to these questions in your report. Be concise.** \\\\\n",
        "**You won't get any potins for this but answering these questions in obligatory.**\n",
        "\n",
        "If any of these issues is unclear, please make an effort to recall and review them.\n",
        "\n",
        "You can always check [these tutorials](https://www.kdnuggets.com/2020/03/24-best-free-books-understand-machine-learning.html) or consult with the teacher.\n",
        "\n",
        "1. What are the differences between supervised, unsupervised, and reinforcement learning?\n",
        "2. How is regression different from classification?\n",
        "3. What are linear regression, decision tree, and neural network?\n",
        "4. What is the test set, and what is the training set?\n",
        "5. What is *overfitting*, and what is *underfitting*?\n",
        "6. How to deal with *overfitting* for linear regression, decision trees, and neural networks?\n",
        "7. What is Exploratory Data Analysis (EDA), and why do we do it?\n",
        "8. What is an *outlier*?\n",
        "9. What metrics can be used to measure the model's performance in supervised learning, and what is their interpretation?\n",
        "10. What is cross-validation?\n"
      ]
    },
    {
      "cell_type": "markdown",
      "metadata": {
        "id": "yqsx96Bw7JZm"
      },
      "source": [
        "### Part 2: Jupyter Notebook\n",
        "\n",
        "Jupyter Notebook allows you to create documents containing code, graphs, equations, text, etc.\n",
        "\n",
        "The whole philosophy is based on writing in cells that we can freely and independently edit and run. \n",
        "\n",
        "Additionaly, the cells can be interactive.\n",
        "\n",
        "Jupyter Notebooks allow you to run code written in **Python**, Julia, R, etc.\n",
        "\n",
        "We use them very often in the case of data analysis, statistical modeling, visualization, Artificial Intelligence.\n",
        "\n",
        "You can learn more [here](https://jupyter.org/) and [here](https://www.anaconda.com/)."
      ]
    },
    {
      "cell_type": "markdown",
      "metadata": {
        "id": "vbaXjDvzREA5"
      },
      "source": [
        "---\n",
        "Below you can see some examples with basic code."
      ]
    },
    {
      "cell_type": "code",
      "metadata": {
        "id": "yg__G8O7H8IB",
        "colab": {
          "base_uri": "https://localhost:8080/"
        },
        "outputId": "1bc1e907-949d-4407-ca86-d82f26a4f58f"
      },
      "source": [
        "print(\"Hello!\") # if you clink on specific cell and press Ctrl+Enter the code is running (alternatively, you can just use 'Play' button on the left of cell)"
      ],
      "execution_count": null,
      "outputs": [
        {
          "output_type": "stream",
          "name": "stdout",
          "text": [
            "Hello!\n"
          ]
        }
      ]
    },
    {
      "cell_type": "code",
      "metadata": {
        "id": "hjTYHiTnI94J",
        "colab": {
          "base_uri": "https://localhost:8080/"
        },
        "outputId": "7171bce9-7143-473a-dc5a-8a8dffca1f16"
      },
      "source": [
        "first_var = 3\n",
        "first_var"
      ],
      "execution_count": null,
      "outputs": [
        {
          "output_type": "execute_result",
          "data": {
            "text/plain": [
              "3"
            ]
          },
          "metadata": {},
          "execution_count": 4
        }
      ]
    },
    {
      "cell_type": "code",
      "metadata": {
        "id": "Y--VWJOVIaP3",
        "colab": {
          "base_uri": "https://localhost:8080/"
        },
        "outputId": "22293f34-a55d-431d-9893-727d49887103"
      },
      "source": [
        "my_list = [x for x in range(10)]\n",
        "my_list"
      ],
      "execution_count": null,
      "outputs": [
        {
          "output_type": "execute_result",
          "data": {
            "text/plain": [
              "[0, 1, 2, 3, 4, 5, 6, 7, 8, 9]"
            ]
          },
          "metadata": {},
          "execution_count": 5
        }
      ]
    },
    {
      "cell_type": "code",
      "metadata": {
        "id": "vsbmhyqNIs_e"
      },
      "source": [
        "my_list += [3, 2, 1]"
      ],
      "execution_count": null,
      "outputs": []
    },
    {
      "cell_type": "code",
      "metadata": {
        "id": "TnBahiV6IyV3",
        "colab": {
          "base_uri": "https://localhost:8080/"
        },
        "outputId": "4e1b7cda-ad94-4b29-892d-85f7b003a2e7"
      },
      "source": [
        "my_list"
      ],
      "execution_count": null,
      "outputs": [
        {
          "output_type": "execute_result",
          "data": {
            "text/plain": [
              "[0, 1, 2, 3, 4, 5, 6, 7, 8, 9, 3, 2, 1]"
            ]
          },
          "metadata": {},
          "execution_count": 7
        }
      ]
    },
    {
      "cell_type": "markdown",
      "metadata": {
        "id": "ktTGUfrgJPEm"
      },
      "source": [
        "---\n",
        "\n",
        "The cell below is for you -- try writing a simple Python program.\n",
        "\n",
        "Example task: write a program that returns an NxN array filled with successive numbers of the Fibonacci sequence (recursion) in a spiral.\n",
        "\n",
        "You can use as many cells as you need. Make your code as readable as possible.\n",
        "\n",
        "---\n"
      ]
    },
    {
      "cell_type": "code",
      "metadata": {
        "id": "8x_uXMNwJOcN",
        "colab": {
          "base_uri": "https://localhost:8080/"
        },
        "outputId": "b9eec790-f294-478e-c387-99c3065eda17"
      },
      "source": [
        "def Fibonacci(n):\n",
        "    if n < 0: print(\"Incorrect input\")\n",
        "    elif n == 0: return 0\n",
        "    elif n == 1 or n == 2: return 1\n",
        "    else: return Fibonacci(n-1) + Fibonacci(n-2)\n",
        "i= 12 #i being the nth place in fib\n",
        "fibarr=[] # initializing an array\n",
        "\n",
        "for j in range(i): fibarr+=[Fibonacci(j)]\n",
        "print(\"the output for\", i ,\" digits of the Fibonacci array is \", fibarr)\n",
        " "
      ],
      "execution_count": null,
      "outputs": [
        {
          "output_type": "stream",
          "name": "stdout",
          "text": [
            "the output for 12  digits of the Fibonacci array is  [0, 1, 1, 2, 3, 5, 8, 13, 21, 34, 55, 89]\n"
          ]
        }
      ]
    },
    {
      "cell_type": "markdown",
      "metadata": {
        "id": "ns3T8p75Jm8F"
      },
      "source": [
        "---\n",
        "\n",
        "The place below is for you - try to *tell* what you did.\n",
        "\n",
        "You can use graphics, text, links, tables, etc.\n",
        "\n",
        "---\n",
        "\n",
        "\n",
        "\n"
      ]
    },
    {
      "cell_type": "markdown",
      "metadata": {
        "id": "Ymuz4VvOJmm3"
      },
      "source": [
        "partial program check (we covered this same program in highschool and i vividly rember it coming in my 10th grade final exam, i wanted to make sure it was the correct code) \n",
        "\n",
        "https://www.geeksforgeeks.org/python-program-for-program-for-fibonacci-numbers-2/\n",
        "\n",
        "after checking the solution was indeed as i recalled, i modified the code to generate the positions in an array and return an array with for loop. code can be optimized more with less lines (the if loops can be really compressed in python to scary extents sometimes) but i wanted to make it more readable at the moment :)\n"
      ]
    },
    {
      "cell_type": "markdown",
      "metadata": {
        "id": "gVFZ4NMXLGJi"
      },
      "source": [
        "---\n",
        "\n",
        "What else could you do with Jupyter Notebooks?\n",
        "\n",
        "Check [here](https://towardsdatascience.com/bringing-the-best-out-of-jupyter-notebooks-for-data-science-f0871519ca29)."
      ]
    },
    {
      "cell_type": "markdown",
      "metadata": {
        "id": "FEB4UF4_ONIc"
      },
      "source": [
        "**You do not have to put the answers to these questions to your report.**"
      ]
    },
    {
      "cell_type": "markdown",
      "metadata": {
        "id": "XTGk0oygAPy8"
      },
      "source": [
        "### Part 3: Google Colab(oratory)\n",
        "\n",
        "You can run Jupyter Notebooks [locally](https://jupyter-notebook.readthedocs.io/en/stable/public_server.html#running-a-notebook-server) and [remotely](https://jupyter-notebook.readthedocs.io/en/stable/public_server.html#running-a-public-notebook-server). I especially recommend the security sections here!\n",
        "\n",
        "Jupyter Notebooks can also be used with cloud solutions, such as AWS, Azure, Google Cloud.\n",
        "\n",
        "Google Colab operates in such a way.\n",
        "\n",
        "You can also download the notebook and run it at home using your computer resources. \n",
        "\n",
        "A comparison of the different mentioned services is available [here](https://www.dataschool.io/cloud-services-for-jupyter-notebook/). Unfortunately, it is a bit old, and some information is outdated.\n",
        "\n",
        "You can also use [Docker](https://hub.docker.com/r/jupyter/datascience-notebook/).\n",
        "\n",
        "By the way, [Azure](https://www.eaiib.agh.edu.pl/azure-elms/) (polish) gives all AGH UST students free $100."
      ]
    },
    {
      "cell_type": "markdown",
      "metadata": {
        "id": "dPfw5XP5Qc9x"
      },
      "source": [
        "---\n",
        "One of the main differences (compared to local work): how to upload files to Google Colab?\n",
        "\n",
        "For example like this:"
      ]
    },
    {
      "cell_type": "code",
      "metadata": {
        "id": "d0F6RSrG9vTO",
        "colab": {
          "base_uri": "https://localhost:8080/",
          "height": 366
        },
        "outputId": "69ba740a-73a0-4d65-8186-4b97a46a5f2c"
      },
      "source": [
        "from google.colab import files\n",
        "\n",
        "uploaded = files.upload() # after running the cell, there is a button that allows data upload, which then can be easily accessed"
      ],
      "execution_count": null,
      "outputs": [
        {
          "output_type": "display_data",
          "data": {
            "text/plain": [
              "<IPython.core.display.HTML object>"
            ],
            "text/html": [
              "\n",
              "     <input type=\"file\" id=\"files-9479ea30-3821-46d4-b671-a22e6d0061a8\" name=\"files[]\" multiple disabled\n",
              "        style=\"border:none\" />\n",
              "     <output id=\"result-9479ea30-3821-46d4-b671-a22e6d0061a8\">\n",
              "      Upload widget is only available when the cell has been executed in the\n",
              "      current browser session. Please rerun this cell to enable.\n",
              "      </output>\n",
              "      <script>// Copyright 2017 Google LLC\n",
              "//\n",
              "// Licensed under the Apache License, Version 2.0 (the \"License\");\n",
              "// you may not use this file except in compliance with the License.\n",
              "// You may obtain a copy of the License at\n",
              "//\n",
              "//      http://www.apache.org/licenses/LICENSE-2.0\n",
              "//\n",
              "// Unless required by applicable law or agreed to in writing, software\n",
              "// distributed under the License is distributed on an \"AS IS\" BASIS,\n",
              "// WITHOUT WARRANTIES OR CONDITIONS OF ANY KIND, either express or implied.\n",
              "// See the License for the specific language governing permissions and\n",
              "// limitations under the License.\n",
              "\n",
              "/**\n",
              " * @fileoverview Helpers for google.colab Python module.\n",
              " */\n",
              "(function(scope) {\n",
              "function span(text, styleAttributes = {}) {\n",
              "  const element = document.createElement('span');\n",
              "  element.textContent = text;\n",
              "  for (const key of Object.keys(styleAttributes)) {\n",
              "    element.style[key] = styleAttributes[key];\n",
              "  }\n",
              "  return element;\n",
              "}\n",
              "\n",
              "// Max number of bytes which will be uploaded at a time.\n",
              "const MAX_PAYLOAD_SIZE = 100 * 1024;\n",
              "\n",
              "function _uploadFiles(inputId, outputId) {\n",
              "  const steps = uploadFilesStep(inputId, outputId);\n",
              "  const outputElement = document.getElementById(outputId);\n",
              "  // Cache steps on the outputElement to make it available for the next call\n",
              "  // to uploadFilesContinue from Python.\n",
              "  outputElement.steps = steps;\n",
              "\n",
              "  return _uploadFilesContinue(outputId);\n",
              "}\n",
              "\n",
              "// This is roughly an async generator (not supported in the browser yet),\n",
              "// where there are multiple asynchronous steps and the Python side is going\n",
              "// to poll for completion of each step.\n",
              "// This uses a Promise to block the python side on completion of each step,\n",
              "// then passes the result of the previous step as the input to the next step.\n",
              "function _uploadFilesContinue(outputId) {\n",
              "  const outputElement = document.getElementById(outputId);\n",
              "  const steps = outputElement.steps;\n",
              "\n",
              "  const next = steps.next(outputElement.lastPromiseValue);\n",
              "  return Promise.resolve(next.value.promise).then((value) => {\n",
              "    // Cache the last promise value to make it available to the next\n",
              "    // step of the generator.\n",
              "    outputElement.lastPromiseValue = value;\n",
              "    return next.value.response;\n",
              "  });\n",
              "}\n",
              "\n",
              "/**\n",
              " * Generator function which is called between each async step of the upload\n",
              " * process.\n",
              " * @param {string} inputId Element ID of the input file picker element.\n",
              " * @param {string} outputId Element ID of the output display.\n",
              " * @return {!Iterable<!Object>} Iterable of next steps.\n",
              " */\n",
              "function* uploadFilesStep(inputId, outputId) {\n",
              "  const inputElement = document.getElementById(inputId);\n",
              "  inputElement.disabled = false;\n",
              "\n",
              "  const outputElement = document.getElementById(outputId);\n",
              "  outputElement.innerHTML = '';\n",
              "\n",
              "  const pickedPromise = new Promise((resolve) => {\n",
              "    inputElement.addEventListener('change', (e) => {\n",
              "      resolve(e.target.files);\n",
              "    });\n",
              "  });\n",
              "\n",
              "  const cancel = document.createElement('button');\n",
              "  inputElement.parentElement.appendChild(cancel);\n",
              "  cancel.textContent = 'Cancel upload';\n",
              "  const cancelPromise = new Promise((resolve) => {\n",
              "    cancel.onclick = () => {\n",
              "      resolve(null);\n",
              "    };\n",
              "  });\n",
              "\n",
              "  // Wait for the user to pick the files.\n",
              "  const files = yield {\n",
              "    promise: Promise.race([pickedPromise, cancelPromise]),\n",
              "    response: {\n",
              "      action: 'starting',\n",
              "    }\n",
              "  };\n",
              "\n",
              "  cancel.remove();\n",
              "\n",
              "  // Disable the input element since further picks are not allowed.\n",
              "  inputElement.disabled = true;\n",
              "\n",
              "  if (!files) {\n",
              "    return {\n",
              "      response: {\n",
              "        action: 'complete',\n",
              "      }\n",
              "    };\n",
              "  }\n",
              "\n",
              "  for (const file of files) {\n",
              "    const li = document.createElement('li');\n",
              "    li.append(span(file.name, {fontWeight: 'bold'}));\n",
              "    li.append(span(\n",
              "        `(${file.type || 'n/a'}) - ${file.size} bytes, ` +\n",
              "        `last modified: ${\n",
              "            file.lastModifiedDate ? file.lastModifiedDate.toLocaleDateString() :\n",
              "                                    'n/a'} - `));\n",
              "    const percent = span('0% done');\n",
              "    li.appendChild(percent);\n",
              "\n",
              "    outputElement.appendChild(li);\n",
              "\n",
              "    const fileDataPromise = new Promise((resolve) => {\n",
              "      const reader = new FileReader();\n",
              "      reader.onload = (e) => {\n",
              "        resolve(e.target.result);\n",
              "      };\n",
              "      reader.readAsArrayBuffer(file);\n",
              "    });\n",
              "    // Wait for the data to be ready.\n",
              "    let fileData = yield {\n",
              "      promise: fileDataPromise,\n",
              "      response: {\n",
              "        action: 'continue',\n",
              "      }\n",
              "    };\n",
              "\n",
              "    // Use a chunked sending to avoid message size limits. See b/62115660.\n",
              "    let position = 0;\n",
              "    do {\n",
              "      const length = Math.min(fileData.byteLength - position, MAX_PAYLOAD_SIZE);\n",
              "      const chunk = new Uint8Array(fileData, position, length);\n",
              "      position += length;\n",
              "\n",
              "      const base64 = btoa(String.fromCharCode.apply(null, chunk));\n",
              "      yield {\n",
              "        response: {\n",
              "          action: 'append',\n",
              "          file: file.name,\n",
              "          data: base64,\n",
              "        },\n",
              "      };\n",
              "\n",
              "      let percentDone = fileData.byteLength === 0 ?\n",
              "          100 :\n",
              "          Math.round((position / fileData.byteLength) * 100);\n",
              "      percent.textContent = `${percentDone}% done`;\n",
              "\n",
              "    } while (position < fileData.byteLength);\n",
              "  }\n",
              "\n",
              "  // All done.\n",
              "  yield {\n",
              "    response: {\n",
              "      action: 'complete',\n",
              "    }\n",
              "  };\n",
              "}\n",
              "\n",
              "scope.google = scope.google || {};\n",
              "scope.google.colab = scope.google.colab || {};\n",
              "scope.google.colab._files = {\n",
              "  _uploadFiles,\n",
              "  _uploadFilesContinue,\n",
              "};\n",
              "})(self);\n",
              "</script> "
            ]
          },
          "metadata": {}
        },
        {
          "output_type": "error",
          "ename": "KeyboardInterrupt",
          "evalue": "ignored",
          "traceback": [
            "\u001b[0;31m---------------------------------------------------------------------------\u001b[0m",
            "\u001b[0;31mKeyboardInterrupt\u001b[0m                         Traceback (most recent call last)",
            "\u001b[0;32m<ipython-input-9-ada96e0c728b>\u001b[0m in \u001b[0;36m<module>\u001b[0;34m\u001b[0m\n\u001b[1;32m      1\u001b[0m \u001b[0;32mfrom\u001b[0m \u001b[0mgoogle\u001b[0m\u001b[0;34m.\u001b[0m\u001b[0mcolab\u001b[0m \u001b[0;32mimport\u001b[0m \u001b[0mfiles\u001b[0m\u001b[0;34m\u001b[0m\u001b[0;34m\u001b[0m\u001b[0m\n\u001b[1;32m      2\u001b[0m \u001b[0;34m\u001b[0m\u001b[0m\n\u001b[0;32m----> 3\u001b[0;31m \u001b[0muploaded\u001b[0m \u001b[0;34m=\u001b[0m \u001b[0mfiles\u001b[0m\u001b[0;34m.\u001b[0m\u001b[0mupload\u001b[0m\u001b[0;34m(\u001b[0m\u001b[0;34m)\u001b[0m \u001b[0;31m# after running the cell, there is a button that allows data upload, which then can be easily accessed\u001b[0m\u001b[0;34m\u001b[0m\u001b[0;34m\u001b[0m\u001b[0m\n\u001b[0m",
            "\u001b[0;32m/usr/local/lib/python3.8/dist-packages/google/colab/files.py\u001b[0m in \u001b[0;36mupload\u001b[0;34m()\u001b[0m\n\u001b[1;32m     65\u001b[0m   \"\"\"\n\u001b[1;32m     66\u001b[0m \u001b[0;34m\u001b[0m\u001b[0m\n\u001b[0;32m---> 67\u001b[0;31m   \u001b[0muploaded_files\u001b[0m \u001b[0;34m=\u001b[0m \u001b[0m_upload_files\u001b[0m\u001b[0;34m(\u001b[0m\u001b[0mmultiple\u001b[0m\u001b[0;34m=\u001b[0m\u001b[0;32mTrue\u001b[0m\u001b[0;34m)\u001b[0m\u001b[0;34m\u001b[0m\u001b[0;34m\u001b[0m\u001b[0m\n\u001b[0m\u001b[1;32m     68\u001b[0m   \u001b[0;31m# Mapping from original filename to filename as saved locally.\u001b[0m\u001b[0;34m\u001b[0m\u001b[0;34m\u001b[0m\u001b[0;34m\u001b[0m\u001b[0m\n\u001b[1;32m     69\u001b[0m   \u001b[0mlocal_filenames\u001b[0m \u001b[0;34m=\u001b[0m \u001b[0mdict\u001b[0m\u001b[0;34m(\u001b[0m\u001b[0;34m)\u001b[0m\u001b[0;34m\u001b[0m\u001b[0;34m\u001b[0m\u001b[0m\n",
            "\u001b[0;32m/usr/local/lib/python3.8/dist-packages/google/colab/files.py\u001b[0m in \u001b[0;36m_upload_files\u001b[0;34m(multiple)\u001b[0m\n\u001b[1;32m    142\u001b[0m \u001b[0;34m\u001b[0m\u001b[0m\n\u001b[1;32m    143\u001b[0m   \u001b[0;31m# First result is always an indication that the file picker has completed.\u001b[0m\u001b[0;34m\u001b[0m\u001b[0;34m\u001b[0m\u001b[0;34m\u001b[0m\u001b[0m\n\u001b[0;32m--> 144\u001b[0;31m   result = _output.eval_js(\n\u001b[0m\u001b[1;32m    145\u001b[0m       'google.colab._files._uploadFiles(\"{input_id}\", \"{output_id}\")'.format(\n\u001b[1;32m    146\u001b[0m           input_id=input_id, output_id=output_id))\n",
            "\u001b[0;32m/usr/local/lib/python3.8/dist-packages/google/colab/output/_js.py\u001b[0m in \u001b[0;36meval_js\u001b[0;34m(script, ignore_result, timeout_sec)\u001b[0m\n\u001b[1;32m     38\u001b[0m   \u001b[0;32mif\u001b[0m \u001b[0mignore_result\u001b[0m\u001b[0;34m:\u001b[0m\u001b[0;34m\u001b[0m\u001b[0;34m\u001b[0m\u001b[0m\n\u001b[1;32m     39\u001b[0m     \u001b[0;32mreturn\u001b[0m\u001b[0;34m\u001b[0m\u001b[0;34m\u001b[0m\u001b[0m\n\u001b[0;32m---> 40\u001b[0;31m   \u001b[0;32mreturn\u001b[0m \u001b[0m_message\u001b[0m\u001b[0;34m.\u001b[0m\u001b[0mread_reply_from_input\u001b[0m\u001b[0;34m(\u001b[0m\u001b[0mrequest_id\u001b[0m\u001b[0;34m,\u001b[0m \u001b[0mtimeout_sec\u001b[0m\u001b[0;34m)\u001b[0m\u001b[0;34m\u001b[0m\u001b[0;34m\u001b[0m\u001b[0m\n\u001b[0m\u001b[1;32m     41\u001b[0m \u001b[0;34m\u001b[0m\u001b[0m\n\u001b[1;32m     42\u001b[0m \u001b[0;34m\u001b[0m\u001b[0m\n",
            "\u001b[0;32m/usr/local/lib/python3.8/dist-packages/google/colab/_message.py\u001b[0m in \u001b[0;36mread_reply_from_input\u001b[0;34m(message_id, timeout_sec)\u001b[0m\n\u001b[1;32m     95\u001b[0m     \u001b[0mreply\u001b[0m \u001b[0;34m=\u001b[0m \u001b[0m_read_next_input_message\u001b[0m\u001b[0;34m(\u001b[0m\u001b[0;34m)\u001b[0m\u001b[0;34m\u001b[0m\u001b[0;34m\u001b[0m\u001b[0m\n\u001b[1;32m     96\u001b[0m     \u001b[0;32mif\u001b[0m \u001b[0mreply\u001b[0m \u001b[0;34m==\u001b[0m \u001b[0m_NOT_READY\u001b[0m \u001b[0;32mor\u001b[0m \u001b[0;32mnot\u001b[0m \u001b[0misinstance\u001b[0m\u001b[0;34m(\u001b[0m\u001b[0mreply\u001b[0m\u001b[0;34m,\u001b[0m \u001b[0mdict\u001b[0m\u001b[0;34m)\u001b[0m\u001b[0;34m:\u001b[0m\u001b[0;34m\u001b[0m\u001b[0;34m\u001b[0m\u001b[0m\n\u001b[0;32m---> 97\u001b[0;31m       \u001b[0mtime\u001b[0m\u001b[0;34m.\u001b[0m\u001b[0msleep\u001b[0m\u001b[0;34m(\u001b[0m\u001b[0;36m0.025\u001b[0m\u001b[0;34m)\u001b[0m\u001b[0;34m\u001b[0m\u001b[0;34m\u001b[0m\u001b[0m\n\u001b[0m\u001b[1;32m     98\u001b[0m       \u001b[0;32mcontinue\u001b[0m\u001b[0;34m\u001b[0m\u001b[0;34m\u001b[0m\u001b[0m\n\u001b[1;32m     99\u001b[0m     if (reply.get('type') == 'colab_reply' and\n",
            "\u001b[0;31mKeyboardInterrupt\u001b[0m: "
          ]
        }
      ]
    },
    {
      "cell_type": "markdown",
      "metadata": {
        "id": "EH1g11FUSQnH"
      },
      "source": [
        "Anyway, you can just use the sidebar on the left and take advantage of the Google Drive integration. More about this issue [here](https://colab.research.google.com/notebooks/io.ipynb).\n",
        "\n",
        "The sidebar in Google Colab contains search, code snippets, variable preview, and file handling options.\n",
        "\n",
        "In addition, we also can integrate Colab with GitHub. For more information, please click here: [1](https://medium.com/analytics-vidhya/how-to-use-google-colab-with-github-via-google-drive-68efb23a42d), [2](https://towardsdatascience.com/google-drive-google-colab-github-dont-just-read-do-it-5554d5824228) i [3](https://colab.research.google.com/github/googlecolab/colabtools/blob/master/notebooks/colab-github-demo.ipynb)."
      ]
    },
    {
      "cell_type": "markdown",
      "metadata": {
        "id": "YPJwiaadS-_z"
      },
      "source": [
        "## Middle"
      ]
    },
    {
      "cell_type": "markdown",
      "metadata": {
        "id": "1aBc4eKgnHzA"
      },
      "source": [
        "⭐ **All the data used in these laboratories are available [here](https://drive.google.com/drive/folders/1xPxoMRhm8KZxODB1tCGK6uzdIpBmTr_u?usp=sharing).** ⭐\n",
        "\n",
        "You can also download some data directly from scikit-learn, look [here](https://scikit-learn.org/stable/datasets.html)."
      ]
    },
    {
      "cell_type": "markdown",
      "metadata": {
        "id": "qHm8Zumi7nFQ"
      },
      "source": [
        "### Part 4: (Simplified) Exploratory Data Analysis"
      ]
    },
    {
      "cell_type": "markdown",
      "metadata": {
        "id": "raEOTIU8UeTY"
      },
      "source": [
        "Sample EDA is available [here](https://colab.research.google.com/drive/1nU3B0AZz3Q5TqF0fATLA45N5HJr04BwJ?usp=sharing). \n",
        "\n",
        "There is also a link at the end of the file that explains a lot more."
      ]
    },
    {
      "cell_type": "markdown",
      "metadata": {
        "id": "4d0TanKNfjLw"
      },
      "source": [
        "For the first part, we will use the <ins>swimming dataset</ins>.\n",
        "\n",
        "Open it using a standard notepad (or better: VS Code, Sublime, etc.). \\\\\n",
        "Then use the spreadsheet program (Excel, Google Spreadsheets, LibreOffice Calc, etc.).\n",
        "\n",
        "Then load the file as shown above into Google Colab."
      ]
    },
    {
      "cell_type": "code",
      "metadata": {
        "id": "U2jQFEOXg9hv"
      },
      "source": [
        "from google.colab import files\n",
        "\n",
        "uploaded = files.upload() # load the file with teh swimming dataset"
      ],
      "execution_count": null,
      "outputs": []
    },
    {
      "cell_type": "code",
      "source": [
        "import pandas as pd\n",
        "import numpy as np\n",
        "import matplotlib\n",
        "import matplotlib.pyplot as plt\n",
        "import seaborn as sns\n",
        "import missingno\n",
        "%matplotlib inline"
      ],
      "metadata": {
        "id": "jzYxHinvITmS"
      },
      "execution_count": null,
      "outputs": []
    },
    {
      "cell_type": "code",
      "source": [
        "df = pd.read_csv('swimming.csv') # displays rows and columns of dataset\n",
        "print(df.shape)"
      ],
      "metadata": {
        "id": "V7yOwNjjJAiQ"
      },
      "execution_count": null,
      "outputs": []
    },
    {
      "cell_type": "code",
      "source": [
        "df.info() # displays rows and columns of dataset and other info "
      ],
      "metadata": {
        "id": "uAs68nSuMrfR"
      },
      "execution_count": null,
      "outputs": []
    },
    {
      "cell_type": "code",
      "source": [
        "df.dtypes"
      ],
      "metadata": {
        "id": "Ro8Pl1u9KKyx"
      },
      "execution_count": null,
      "outputs": []
    },
    {
      "cell_type": "code",
      "source": [
        "def uniq(df):\n",
        "    columns = df.select_dtypes(include=['object', 'category']).columns\n",
        "    for i in columns:\n",
        "        print(\" \")\n",
        "        print(\"---------------------\")\n",
        "        print(\"Unique variables of \" + i)\n",
        "        print(\"---------------------\")\n",
        "        print(df[i].value_counts().reset_index().rename(columns={\"index\": i, i: \"n\"})[:min(3, len(df[i].value_counts()))])\n",
        "        print(\" \")\n",
        "uniq(df)"
      ],
      "metadata": {
        "id": "FcAvc56eEl4H"
      },
      "execution_count": null,
      "outputs": []
    },
    {
      "cell_type": "code",
      "source": [
        "swimming = df[df['enjoy'] != 'yes'] # choose only these rows, which represent 'yes' (by enjoy)\n",
        "swimming.head()"
      ],
      "metadata": {
        "id": "VmFFCjhOKupK"
      },
      "execution_count": null,
      "outputs": []
    },
    {
      "cell_type": "code",
      "source": [
        "df['enjoy'].value_counts()"
      ],
      "metadata": {
        "id": "DA1k-DE8ZA6O"
      },
      "execution_count": null,
      "outputs": []
    },
    {
      "cell_type": "code",
      "source": [
        "#ignore this plz test\n",
        "df = pd.read_csv('swimming.csv')\n",
        "df.head() \n",
        "\n",
        "\n"
      ],
      "metadata": {
        "id": "epS4gWUB3-EK"
      },
      "execution_count": null,
      "outputs": []
    },
    {
      "cell_type": "code",
      "source": [
        "swimming = df[df['humidity'] == 'high'] # choose only these rows, which represent 'yes' (by enjoy)\n",
        "swimming.head()\n",
        "\n"
      ],
      "metadata": {
        "id": "9fJ52OZMNLiB"
      },
      "execution_count": null,
      "outputs": []
    },
    {
      "cell_type": "code",
      "source": [
        "df['humidity'].value_counts()"
      ],
      "metadata": {
        "id": "oHjo8mS-X3VX"
      },
      "execution_count": null,
      "outputs": []
    },
    {
      "cell_type": "markdown",
      "metadata": {
        "id": "nXkHwup6g-DS"
      },
      "source": [
        "Using [example with iris dataset](https://colab.research.google.com/drive/1nU3B0AZz3Q5TqF0fATLA45N5HJr04BwJ?usp=sharing) answer the following questions. \\\\\n",
        "To answer, you need to write a few short lines of code.\n",
        "\n",
        "1. What is the size (rows, columns) of the dataset?\n",
        "2. How many variables are there in the dataset? Which of them are the feature variables? What are the others?\n",
        "3. How many instances are there? How many positive `(enjoy == yes)` and negative instances are in the dataset?\n",
        "4. Which of the feature variables best separates the data?\n",
        "5. How many items in the dataset have the humidity variable set to high (`humidity == high`)? What are their numbers in the dataset (counting from 0)?\n",
        "\n",
        "**Put the answers to these questions and the code in your report.** \\\\\n",
        "**You can get 1 point for each correct answer.**"
      ]
    },
    {
      "cell_type": "code",
      "metadata": {
        "id": "WuN0OKmbUX40"
      },
      "source": [
        "# check the data"
      ],
      "execution_count": null,
      "outputs": []
    },
    {
      "cell_type": "code",
      "source": [
        "# TESTING ONLY CODE CREDIT TO https://www.analyticsvidhya.com/blog/2021/05/exploratory-data-analysis-eda-a-step-by-step-guide/\n",
        "#  https://gist.github.com/jiahao87/c97214065f996b76ab8fe4ca1964b2b5\n",
        "\n",
        "\n",
        "\n",
        "import pandas as pd\n",
        "import numpy as np\n",
        "import matplotlib\n",
        "import matplotlib.pyplot as plt\n",
        "import seaborn as sns\n",
        "import missingno\n",
        "import warnings\n",
        "warnings.filterwarnings(\"ignore\")\n",
        "%matplotlib inline\n",
        "     \n",
        "def numeric_eda(df, hue=None):\n",
        "    \"\"\"Given dataframe, generate EDA of numeric data\"\"\"\n",
        "    print(\"\\nTo check: \\nDistribution of numeric data\")\n",
        "    display(df.describe().T)\n",
        "    columns = df.select_dtypes(include=np.number).columns\n",
        "    figure = plt.figure(figsize=(20, 10))\n",
        "    figure.add_subplot(1, len(columns), 1)\n",
        "    for index, col in enumerate(columns):\n",
        "        if index > 0:\n",
        "            figure.add_subplot(1, len(columns), index + 1)\n",
        "        sns.boxplot(y=col, data=df, boxprops={'facecolor': 'None'})\n",
        "    figure.tight_layout()\n",
        "    plt.show()\n",
        "    \n",
        "    if len(df.select_dtypes(include='category').columns) > 0:\n",
        "        for col_num in df.select_dtypes(include=np.number).columns:\n",
        "            for col in df.select_dtypes(include='category').columns:\n",
        "                fig = sns.catplot(x=col, y=col_num, kind='violin', data=df, height=5, aspect=2)\n",
        "                fig.set_xticklabels(rotation=90)\n",
        "                plt.show()\n",
        "    \n",
        "    # Plot the pairwise joint distributions\n",
        "    print(\"\\nTo check pairwise joint distribution of numeric data\")\n",
        "    if hue==None:\n",
        "        sns.pairplot(df.select_dtypes(include=np.number))\n",
        "    else:\n",
        "        sns.pairplot(df.select_dtypes(include=np.number).join(df[[hue]]), hue=hue)\n",
        "    plt.show()\n",
        "\n",
        "\n",
        "def top5(df):\n",
        "    \"\"\"Given dataframe, generate top 5 unique values for non-numeric data\"\"\"\n",
        "    columns = df.select_dtypes(include=['object', 'category']).columns\n",
        "    for col in columns:\n",
        "        print(\"Top 5 unique values of \" + col)\n",
        "        print(df[col].value_counts().reset_index().rename(columns={\"index\": col, col: \"Count\"})[\n",
        "              :min(5, len(df[col].value_counts()))])\n",
        "        print(\" \")\n",
        "    \n",
        "    \n",
        "def categorical_eda(df, hue=None):\n",
        "    \"\"\"Given dataframe, generate EDA of categorical data\"\"\"\n",
        "    print(\"\\nTo check: \\nUnique count of non-numeric data\\n\")\n",
        "    print(df.select_dtypes(include=['object', 'category']).nunique())\n",
        "    top5(df)\n",
        "    # Plot count distribution of categorical data\n",
        "    for col in df.select_dtypes(include='category').columns:\n",
        "        fig = sns.catplot(x=col, kind=\"count\", data=df, hue=hue)\n",
        "        fig.set_xticklabels(rotation=90)\n",
        "        plt.show()\n",
        "    \n",
        "\n",
        "def eda(df):\n",
        "    \"\"\"Given dataframe, generate exploratory data analysis\"\"\"\n",
        "    # check that input is pandas dataframe\n",
        "    if type(df) != pd.core.frame.DataFrame:\n",
        "        raise TypeError(\"Only pandas dataframe is allowed as input\")\n",
        "        \n",
        "    # replace field that's entirely space (or empty) with NaN\n",
        "    df = df.replace(r'^\\s*$', np.nan, regex=True)\n",
        "\n",
        "    print(\"Preview of data:\")\n",
        "    display(df.head(3))\n",
        "\n",
        "    print(\"\\nTo check: \\n (1) Total number of entries \\n (2) Column types \\n (3) Any null values\\n\")\n",
        "    print(df.info())\n",
        "\n",
        "    # generate preview of entries with null values\n",
        "    if df.isnull().any(axis=None):\n",
        "        print(\"\\nPreview of data with null values:\")\n",
        "        display(df[df.isnull().any(axis=1)].head(3))\n",
        "        missingno.matrix(df)\n",
        "        plt.show()\n",
        "\n",
        "    # generate count statistics of duplicate entries\n",
        "    if len(df[df.duplicated()]) > 0:\n",
        "        print(\"\\n***Number of duplicated entries: \", len(df[df.duplicated()]))\n",
        "        display(df[df.duplicated(keep=False)].sort_values(by=list(df.columns)).head())\n",
        "    else:\n",
        "        print(\"\\nNo duplicated entries found\")\n",
        "\n",
        "    # EDA of categorical data\n",
        "    categorical_eda(df)\n",
        "    \n",
        "    # EDA of numeric data\n",
        "    numeric_eda(df)\n",
        "        \n",
        "    # Plot time series plot of numeric data\n",
        "    time_series_plot(df)"
      ],
      "metadata": {
        "id": "H9MSOnIpQTIP"
      },
      "execution_count": null,
      "outputs": []
    },
    {
      "cell_type": "markdown",
      "source": [
        "---\n",
        "\n",
        "**Extra task (not obligatory).**\n",
        "\n",
        "Perform full EDA."
      ],
      "metadata": {
        "id": "jPyLYWrk9i1u"
      }
    },
    {
      "cell_type": "code",
      "source": [
        "# set categorical data\n",
        "df['sky'] = df['sky'].astype('category')\n",
        "df['airTemp'] = df['airTemp'].astype('category')\n",
        "df['humidity'] = df['humidity'].astype('category')\n",
        "df['wind'] = df['wind'].astype('category')\n",
        "df['water'] = df['water'].astype('category')\n",
        "df['forecast'] = df['forecast'].astype('category')\n",
        "df['enjoy'] = df['enjoy'].astype('category')"
      ],
      "metadata": {
        "id": "XnFGJBAf9hk7"
      },
      "execution_count": null,
      "outputs": []
    },
    {
      "cell_type": "code",
      "source": [
        "eda(df)"
      ],
      "metadata": {
        "id": "qncXHmrCPWhz"
      },
      "execution_count": null,
      "outputs": []
    },
    {
      "cell_type": "code",
      "source": [
        "sns.countplot(df['enjoy'])"
      ],
      "metadata": {
        "id": "KIWCm6y5_C3c"
      },
      "execution_count": null,
      "outputs": []
    },
    {
      "cell_type": "code",
      "source": [
        "sns.countplot(df['forecast'])\n"
      ],
      "metadata": {
        "id": "MqvM8Z7OA9JS"
      },
      "execution_count": null,
      "outputs": []
    },
    {
      "cell_type": "code",
      "source": [
        "sns.countplot(df['water'])\n"
      ],
      "metadata": {
        "id": "wk1G8UCdBZ5C"
      },
      "execution_count": null,
      "outputs": []
    },
    {
      "cell_type": "code",
      "source": [
        "sns.countplot(df['wind'])\n"
      ],
      "metadata": {
        "id": "eo4pq1ulBcJc"
      },
      "execution_count": null,
      "outputs": []
    },
    {
      "cell_type": "code",
      "source": [
        "sns.countplot(df['humidity'])\n"
      ],
      "metadata": {
        "id": "U3r8dPWiBd7z"
      },
      "execution_count": null,
      "outputs": []
    },
    {
      "cell_type": "code",
      "source": [
        "sns.countplot(df['airTemp'])\n"
      ],
      "metadata": {
        "id": "8lfwpUhhBfgq"
      },
      "execution_count": null,
      "outputs": []
    },
    {
      "cell_type": "code",
      "source": [
        "sns.countplot(df['sky'])"
      ],
      "metadata": {
        "id": "KdC1z3n5BhFn"
      },
      "execution_count": null,
      "outputs": []
    },
    {
      "cell_type": "code",
      "source": [
        "sns.countplot(df['enjoy'],hue=df['forecast'])"
      ],
      "metadata": {
        "id": "fVS1kO1X_vYb"
      },
      "execution_count": null,
      "outputs": []
    },
    {
      "cell_type": "code",
      "source": [
        "sns.countplot(df['enjoy'],hue=df['water'])"
      ],
      "metadata": {
        "id": "K9avhAsY_wOq"
      },
      "execution_count": null,
      "outputs": []
    },
    {
      "cell_type": "code",
      "source": [
        "sns.countplot(df['enjoy'],hue=df['wind'])"
      ],
      "metadata": {
        "id": "TS1jQthsAWBy"
      },
      "execution_count": null,
      "outputs": []
    },
    {
      "cell_type": "code",
      "source": [
        "sns.countplot(df['enjoy'],hue=df['humidity'])"
      ],
      "metadata": {
        "id": "-gaX1xKAAaC8"
      },
      "execution_count": null,
      "outputs": []
    },
    {
      "cell_type": "code",
      "source": [
        "sns.countplot(df['enjoy'],hue=df['airTemp'])"
      ],
      "metadata": {
        "id": "lcE7ObvBAcLL"
      },
      "execution_count": null,
      "outputs": []
    },
    {
      "cell_type": "code",
      "source": [
        "sns.countplot(df['enjoy'],hue=df['sky'])"
      ],
      "metadata": {
        "id": "1kT6ukcOA2rj"
      },
      "execution_count": null,
      "outputs": []
    },
    {
      "cell_type": "markdown",
      "metadata": {
        "id": "nUfM49Zm7nMn"
      },
      "source": [
        "### Part 5: Linear Regression\n"
      ]
    },
    {
      "cell_type": "markdown",
      "metadata": {
        "id": "MoiKe59MmtxZ"
      },
      "source": [
        "Learn more about regression here: [1](https://towardsdatascience.com/a-brief-introduction-to-supervised-learning-54a3e3932590), [2](https://realpython.com/linear-regression-in-python/), [3](https://towardsdatascience.com/simple-and-multiple-linear-regression-in-python-c928425168f9).\n",
        "\n",
        "Based on the descriptions in the links,  solve further tasks."
      ]
    },
    {
      "cell_type": "markdown",
      "metadata": {
        "id": "rFG4_r5QoVO3"
      },
      "source": [
        "Load <ins>cpu</ins> i <ins>spu-vendor</ins> datasets.\n",
        "Use `pandas` and `read_csv()`. \n",
        "\n",
        "Attention! To solve exercises, use [to_numpy()](https://pandas.pydata.org/pandas-docs/stable/reference/api/pandas.DataFrame.to_numpy.html#pandas.DataFrame.to_numpy) or [values](https://pandas.pydata.org/pandas-docs/stable/reference/api/pandas.DataFrame.values.html).\n",
        "\n",
        "For these of you who are interested -- data are selected from: <br>\n",
        "Kilpatrick, D. A., & Cameron-Jones, R. M. (1998). Numeric prediction using instance-based learning with encoding length selection. <br> \n",
        "In: *1997 International Conference on Neural Information Processing and Intelligent Information Systems* (Vol. 1, pp. 984-987)."
      ]
    },
    {
      "cell_type": "code",
      "source": [
        "import pandas as pd\n",
        "import numpy as np\n",
        "import matplotlib\n",
        "import matplotlib.pyplot as plt\n",
        "import seaborn as sns\n",
        "import missingno\n",
        "%matplotlib inline\n",
        "from sklearn.linear_model import LinearRegression"
      ],
      "metadata": {
        "id": "Vat1bxXpbg1n"
      },
      "execution_count": null,
      "outputs": []
    },
    {
      "cell_type": "code",
      "source": [
        "from google.colab import files\n",
        "\n",
        "uploaded = files.upload() # load the file with teh swimming dataset"
      ],
      "metadata": {
        "colab": {
          "base_uri": "https://localhost:8080/",
          "height": 72
        },
        "id": "CgfiSdY6bE-_",
        "outputId": "189b5ef0-2253-48bd-ba66-926c46fd28b4"
      },
      "execution_count": null,
      "outputs": [
        {
          "output_type": "display_data",
          "data": {
            "text/plain": [
              "<IPython.core.display.HTML object>"
            ],
            "text/html": [
              "\n",
              "     <input type=\"file\" id=\"files-9ba283f9-203c-4009-815d-4a1cac717647\" name=\"files[]\" multiple disabled\n",
              "        style=\"border:none\" />\n",
              "     <output id=\"result-9ba283f9-203c-4009-815d-4a1cac717647\">\n",
              "      Upload widget is only available when the cell has been executed in the\n",
              "      current browser session. Please rerun this cell to enable.\n",
              "      </output>\n",
              "      <script>// Copyright 2017 Google LLC\n",
              "//\n",
              "// Licensed under the Apache License, Version 2.0 (the \"License\");\n",
              "// you may not use this file except in compliance with the License.\n",
              "// You may obtain a copy of the License at\n",
              "//\n",
              "//      http://www.apache.org/licenses/LICENSE-2.0\n",
              "//\n",
              "// Unless required by applicable law or agreed to in writing, software\n",
              "// distributed under the License is distributed on an \"AS IS\" BASIS,\n",
              "// WITHOUT WARRANTIES OR CONDITIONS OF ANY KIND, either express or implied.\n",
              "// See the License for the specific language governing permissions and\n",
              "// limitations under the License.\n",
              "\n",
              "/**\n",
              " * @fileoverview Helpers for google.colab Python module.\n",
              " */\n",
              "(function(scope) {\n",
              "function span(text, styleAttributes = {}) {\n",
              "  const element = document.createElement('span');\n",
              "  element.textContent = text;\n",
              "  for (const key of Object.keys(styleAttributes)) {\n",
              "    element.style[key] = styleAttributes[key];\n",
              "  }\n",
              "  return element;\n",
              "}\n",
              "\n",
              "// Max number of bytes which will be uploaded at a time.\n",
              "const MAX_PAYLOAD_SIZE = 100 * 1024;\n",
              "\n",
              "function _uploadFiles(inputId, outputId) {\n",
              "  const steps = uploadFilesStep(inputId, outputId);\n",
              "  const outputElement = document.getElementById(outputId);\n",
              "  // Cache steps on the outputElement to make it available for the next call\n",
              "  // to uploadFilesContinue from Python.\n",
              "  outputElement.steps = steps;\n",
              "\n",
              "  return _uploadFilesContinue(outputId);\n",
              "}\n",
              "\n",
              "// This is roughly an async generator (not supported in the browser yet),\n",
              "// where there are multiple asynchronous steps and the Python side is going\n",
              "// to poll for completion of each step.\n",
              "// This uses a Promise to block the python side on completion of each step,\n",
              "// then passes the result of the previous step as the input to the next step.\n",
              "function _uploadFilesContinue(outputId) {\n",
              "  const outputElement = document.getElementById(outputId);\n",
              "  const steps = outputElement.steps;\n",
              "\n",
              "  const next = steps.next(outputElement.lastPromiseValue);\n",
              "  return Promise.resolve(next.value.promise).then((value) => {\n",
              "    // Cache the last promise value to make it available to the next\n",
              "    // step of the generator.\n",
              "    outputElement.lastPromiseValue = value;\n",
              "    return next.value.response;\n",
              "  });\n",
              "}\n",
              "\n",
              "/**\n",
              " * Generator function which is called between each async step of the upload\n",
              " * process.\n",
              " * @param {string} inputId Element ID of the input file picker element.\n",
              " * @param {string} outputId Element ID of the output display.\n",
              " * @return {!Iterable<!Object>} Iterable of next steps.\n",
              " */\n",
              "function* uploadFilesStep(inputId, outputId) {\n",
              "  const inputElement = document.getElementById(inputId);\n",
              "  inputElement.disabled = false;\n",
              "\n",
              "  const outputElement = document.getElementById(outputId);\n",
              "  outputElement.innerHTML = '';\n",
              "\n",
              "  const pickedPromise = new Promise((resolve) => {\n",
              "    inputElement.addEventListener('change', (e) => {\n",
              "      resolve(e.target.files);\n",
              "    });\n",
              "  });\n",
              "\n",
              "  const cancel = document.createElement('button');\n",
              "  inputElement.parentElement.appendChild(cancel);\n",
              "  cancel.textContent = 'Cancel upload';\n",
              "  const cancelPromise = new Promise((resolve) => {\n",
              "    cancel.onclick = () => {\n",
              "      resolve(null);\n",
              "    };\n",
              "  });\n",
              "\n",
              "  // Wait for the user to pick the files.\n",
              "  const files = yield {\n",
              "    promise: Promise.race([pickedPromise, cancelPromise]),\n",
              "    response: {\n",
              "      action: 'starting',\n",
              "    }\n",
              "  };\n",
              "\n",
              "  cancel.remove();\n",
              "\n",
              "  // Disable the input element since further picks are not allowed.\n",
              "  inputElement.disabled = true;\n",
              "\n",
              "  if (!files) {\n",
              "    return {\n",
              "      response: {\n",
              "        action: 'complete',\n",
              "      }\n",
              "    };\n",
              "  }\n",
              "\n",
              "  for (const file of files) {\n",
              "    const li = document.createElement('li');\n",
              "    li.append(span(file.name, {fontWeight: 'bold'}));\n",
              "    li.append(span(\n",
              "        `(${file.type || 'n/a'}) - ${file.size} bytes, ` +\n",
              "        `last modified: ${\n",
              "            file.lastModifiedDate ? file.lastModifiedDate.toLocaleDateString() :\n",
              "                                    'n/a'} - `));\n",
              "    const percent = span('0% done');\n",
              "    li.appendChild(percent);\n",
              "\n",
              "    outputElement.appendChild(li);\n",
              "\n",
              "    const fileDataPromise = new Promise((resolve) => {\n",
              "      const reader = new FileReader();\n",
              "      reader.onload = (e) => {\n",
              "        resolve(e.target.result);\n",
              "      };\n",
              "      reader.readAsArrayBuffer(file);\n",
              "    });\n",
              "    // Wait for the data to be ready.\n",
              "    let fileData = yield {\n",
              "      promise: fileDataPromise,\n",
              "      response: {\n",
              "        action: 'continue',\n",
              "      }\n",
              "    };\n",
              "\n",
              "    // Use a chunked sending to avoid message size limits. See b/62115660.\n",
              "    let position = 0;\n",
              "    do {\n",
              "      const length = Math.min(fileData.byteLength - position, MAX_PAYLOAD_SIZE);\n",
              "      const chunk = new Uint8Array(fileData, position, length);\n",
              "      position += length;\n",
              "\n",
              "      const base64 = btoa(String.fromCharCode.apply(null, chunk));\n",
              "      yield {\n",
              "        response: {\n",
              "          action: 'append',\n",
              "          file: file.name,\n",
              "          data: base64,\n",
              "        },\n",
              "      };\n",
              "\n",
              "      let percentDone = fileData.byteLength === 0 ?\n",
              "          100 :\n",
              "          Math.round((position / fileData.byteLength) * 100);\n",
              "      percent.textContent = `${percentDone}% done`;\n",
              "\n",
              "    } while (position < fileData.byteLength);\n",
              "  }\n",
              "\n",
              "  // All done.\n",
              "  yield {\n",
              "    response: {\n",
              "      action: 'complete',\n",
              "    }\n",
              "  };\n",
              "}\n",
              "\n",
              "scope.google = scope.google || {};\n",
              "scope.google.colab = scope.google.colab || {};\n",
              "scope.google.colab._files = {\n",
              "  _uploadFiles,\n",
              "  _uploadFilesContinue,\n",
              "};\n",
              "})(self);\n",
              "</script> "
            ]
          },
          "metadata": {}
        },
        {
          "output_type": "stream",
          "name": "stdout",
          "text": [
            "Saving cpu.csv to cpu.csv\n"
          ]
        }
      ]
    },
    {
      "cell_type": "code",
      "source": [
        "from google.colab import files\n",
        "\n",
        "uploaded = files.upload() # load the file with teh swimming dataset"
      ],
      "metadata": {
        "colab": {
          "base_uri": "https://localhost:8080/",
          "height": 72
        },
        "id": "zZn35Bk_N9a_",
        "outputId": "a9773bc3-d5e5-48de-9dd5-fe95bf878941"
      },
      "execution_count": null,
      "outputs": [
        {
          "output_type": "display_data",
          "data": {
            "text/plain": [
              "<IPython.core.display.HTML object>"
            ],
            "text/html": [
              "\n",
              "     <input type=\"file\" id=\"files-afb27ff2-e992-4d93-81bc-eb690c1fd521\" name=\"files[]\" multiple disabled\n",
              "        style=\"border:none\" />\n",
              "     <output id=\"result-afb27ff2-e992-4d93-81bc-eb690c1fd521\">\n",
              "      Upload widget is only available when the cell has been executed in the\n",
              "      current browser session. Please rerun this cell to enable.\n",
              "      </output>\n",
              "      <script>// Copyright 2017 Google LLC\n",
              "//\n",
              "// Licensed under the Apache License, Version 2.0 (the \"License\");\n",
              "// you may not use this file except in compliance with the License.\n",
              "// You may obtain a copy of the License at\n",
              "//\n",
              "//      http://www.apache.org/licenses/LICENSE-2.0\n",
              "//\n",
              "// Unless required by applicable law or agreed to in writing, software\n",
              "// distributed under the License is distributed on an \"AS IS\" BASIS,\n",
              "// WITHOUT WARRANTIES OR CONDITIONS OF ANY KIND, either express or implied.\n",
              "// See the License for the specific language governing permissions and\n",
              "// limitations under the License.\n",
              "\n",
              "/**\n",
              " * @fileoverview Helpers for google.colab Python module.\n",
              " */\n",
              "(function(scope) {\n",
              "function span(text, styleAttributes = {}) {\n",
              "  const element = document.createElement('span');\n",
              "  element.textContent = text;\n",
              "  for (const key of Object.keys(styleAttributes)) {\n",
              "    element.style[key] = styleAttributes[key];\n",
              "  }\n",
              "  return element;\n",
              "}\n",
              "\n",
              "// Max number of bytes which will be uploaded at a time.\n",
              "const MAX_PAYLOAD_SIZE = 100 * 1024;\n",
              "\n",
              "function _uploadFiles(inputId, outputId) {\n",
              "  const steps = uploadFilesStep(inputId, outputId);\n",
              "  const outputElement = document.getElementById(outputId);\n",
              "  // Cache steps on the outputElement to make it available for the next call\n",
              "  // to uploadFilesContinue from Python.\n",
              "  outputElement.steps = steps;\n",
              "\n",
              "  return _uploadFilesContinue(outputId);\n",
              "}\n",
              "\n",
              "// This is roughly an async generator (not supported in the browser yet),\n",
              "// where there are multiple asynchronous steps and the Python side is going\n",
              "// to poll for completion of each step.\n",
              "// This uses a Promise to block the python side on completion of each step,\n",
              "// then passes the result of the previous step as the input to the next step.\n",
              "function _uploadFilesContinue(outputId) {\n",
              "  const outputElement = document.getElementById(outputId);\n",
              "  const steps = outputElement.steps;\n",
              "\n",
              "  const next = steps.next(outputElement.lastPromiseValue);\n",
              "  return Promise.resolve(next.value.promise).then((value) => {\n",
              "    // Cache the last promise value to make it available to the next\n",
              "    // step of the generator.\n",
              "    outputElement.lastPromiseValue = value;\n",
              "    return next.value.response;\n",
              "  });\n",
              "}\n",
              "\n",
              "/**\n",
              " * Generator function which is called between each async step of the upload\n",
              " * process.\n",
              " * @param {string} inputId Element ID of the input file picker element.\n",
              " * @param {string} outputId Element ID of the output display.\n",
              " * @return {!Iterable<!Object>} Iterable of next steps.\n",
              " */\n",
              "function* uploadFilesStep(inputId, outputId) {\n",
              "  const inputElement = document.getElementById(inputId);\n",
              "  inputElement.disabled = false;\n",
              "\n",
              "  const outputElement = document.getElementById(outputId);\n",
              "  outputElement.innerHTML = '';\n",
              "\n",
              "  const pickedPromise = new Promise((resolve) => {\n",
              "    inputElement.addEventListener('change', (e) => {\n",
              "      resolve(e.target.files);\n",
              "    });\n",
              "  });\n",
              "\n",
              "  const cancel = document.createElement('button');\n",
              "  inputElement.parentElement.appendChild(cancel);\n",
              "  cancel.textContent = 'Cancel upload';\n",
              "  const cancelPromise = new Promise((resolve) => {\n",
              "    cancel.onclick = () => {\n",
              "      resolve(null);\n",
              "    };\n",
              "  });\n",
              "\n",
              "  // Wait for the user to pick the files.\n",
              "  const files = yield {\n",
              "    promise: Promise.race([pickedPromise, cancelPromise]),\n",
              "    response: {\n",
              "      action: 'starting',\n",
              "    }\n",
              "  };\n",
              "\n",
              "  cancel.remove();\n",
              "\n",
              "  // Disable the input element since further picks are not allowed.\n",
              "  inputElement.disabled = true;\n",
              "\n",
              "  if (!files) {\n",
              "    return {\n",
              "      response: {\n",
              "        action: 'complete',\n",
              "      }\n",
              "    };\n",
              "  }\n",
              "\n",
              "  for (const file of files) {\n",
              "    const li = document.createElement('li');\n",
              "    li.append(span(file.name, {fontWeight: 'bold'}));\n",
              "    li.append(span(\n",
              "        `(${file.type || 'n/a'}) - ${file.size} bytes, ` +\n",
              "        `last modified: ${\n",
              "            file.lastModifiedDate ? file.lastModifiedDate.toLocaleDateString() :\n",
              "                                    'n/a'} - `));\n",
              "    const percent = span('0% done');\n",
              "    li.appendChild(percent);\n",
              "\n",
              "    outputElement.appendChild(li);\n",
              "\n",
              "    const fileDataPromise = new Promise((resolve) => {\n",
              "      const reader = new FileReader();\n",
              "      reader.onload = (e) => {\n",
              "        resolve(e.target.result);\n",
              "      };\n",
              "      reader.readAsArrayBuffer(file);\n",
              "    });\n",
              "    // Wait for the data to be ready.\n",
              "    let fileData = yield {\n",
              "      promise: fileDataPromise,\n",
              "      response: {\n",
              "        action: 'continue',\n",
              "      }\n",
              "    };\n",
              "\n",
              "    // Use a chunked sending to avoid message size limits. See b/62115660.\n",
              "    let position = 0;\n",
              "    do {\n",
              "      const length = Math.min(fileData.byteLength - position, MAX_PAYLOAD_SIZE);\n",
              "      const chunk = new Uint8Array(fileData, position, length);\n",
              "      position += length;\n",
              "\n",
              "      const base64 = btoa(String.fromCharCode.apply(null, chunk));\n",
              "      yield {\n",
              "        response: {\n",
              "          action: 'append',\n",
              "          file: file.name,\n",
              "          data: base64,\n",
              "        },\n",
              "      };\n",
              "\n",
              "      let percentDone = fileData.byteLength === 0 ?\n",
              "          100 :\n",
              "          Math.round((position / fileData.byteLength) * 100);\n",
              "      percent.textContent = `${percentDone}% done`;\n",
              "\n",
              "    } while (position < fileData.byteLength);\n",
              "  }\n",
              "\n",
              "  // All done.\n",
              "  yield {\n",
              "    response: {\n",
              "      action: 'complete',\n",
              "    }\n",
              "  };\n",
              "}\n",
              "\n",
              "scope.google = scope.google || {};\n",
              "scope.google.colab = scope.google.colab || {};\n",
              "scope.google.colab._files = {\n",
              "  _uploadFiles,\n",
              "  _uploadFilesContinue,\n",
              "};\n",
              "})(self);\n",
              "</script> "
            ]
          },
          "metadata": {}
        },
        {
          "output_type": "stream",
          "name": "stdout",
          "text": [
            "Saving cpu_vendor.csv to cpu_vendor.csv\n"
          ]
        }
      ]
    },
    {
      "cell_type": "code",
      "source": [
        "df1 = pd.read_csv('cpu.csv') # displays rows and columns of dataset\n",
        "print(df1.shape)"
      ],
      "metadata": {
        "id": "va_pjiBQbwlW",
        "colab": {
          "base_uri": "https://localhost:8080/"
        },
        "outputId": "a26d338c-5592-43e9-9de7-a14530921958"
      },
      "execution_count": null,
      "outputs": [
        {
          "output_type": "stream",
          "name": "stdout",
          "text": [
            "(209, 7)\n"
          ]
        }
      ]
    },
    {
      "cell_type": "code",
      "source": [
        "df2 = pd.read_csv('cpu_vendor.csv') # displays rows and columns of dataset\n",
        "print(df2.shape)"
      ],
      "metadata": {
        "id": "aKBGIpjObxEt",
        "colab": {
          "base_uri": "https://localhost:8080/"
        },
        "outputId": "1092de60-66cb-471c-c045-ab1ab66a1f7b"
      },
      "execution_count": null,
      "outputs": [
        {
          "output_type": "stream",
          "name": "stdout",
          "text": [
            "(209, 8)\n"
          ]
        }
      ]
    },
    {
      "cell_type": "code",
      "source": [
        " df1.to_numpy()"
      ],
      "metadata": {
        "id": "aOUPZaF9b8WP",
        "colab": {
          "base_uri": "https://localhost:8080/"
        },
        "outputId": "1f765d2e-7dcd-4ae3-9199-c9ba20962a39"
      },
      "execution_count": null,
      "outputs": [
        {
          "output_type": "execute_result",
          "data": {
            "text/plain": [
              "array([[  125,   256,  6000, ...,    16,   128,   198],\n",
              "       [   29,  8000, 32000, ...,     8,    32,   269],\n",
              "       [   29,  8000, 32000, ...,     8,    32,   220],\n",
              "       ...,\n",
              "       [  125,  2000,  8000, ...,     2,    14,    52],\n",
              "       [  480,   512,  8000, ...,     0,     0,    67],\n",
              "       [  480,  1000,  4000, ...,     0,     0,    45]])"
            ]
          },
          "metadata": {},
          "execution_count": 18
        }
      ]
    },
    {
      "cell_type": "code",
      "source": [
        " df2.to_numpy()"
      ],
      "metadata": {
        "colab": {
          "base_uri": "https://localhost:8080/"
        },
        "id": "o4mCu3D1bSSl",
        "outputId": "4ac120ed-96bb-4999-defd-81e2941b854c"
      },
      "execution_count": null,
      "outputs": [
        {
          "output_type": "execute_result",
          "data": {
            "text/plain": [
              "array([['adviser', 125, 256, ..., 16, 128, 199],\n",
              "       ['amdahl', 29, 8000, ..., 8, 32, 253],\n",
              "       ['amdahl', 29, 8000, ..., 8, 32, 253],\n",
              "       ...,\n",
              "       ['sratus', 125, 2000, ..., 2, 14, 41],\n",
              "       ['wang', 480, 512, ..., 0, 0, 47],\n",
              "       ['wang', 480, 1000, ..., 0, 0, 25]], dtype=object)"
            ]
          },
          "metadata": {},
          "execution_count": 19
        }
      ]
    },
    {
      "cell_type": "code",
      "metadata": {
        "id": "QLPFfGNiUYYl"
      },
      "source": [
        "# load dane"
      ],
      "execution_count": null,
      "outputs": []
    },
    {
      "cell_type": "code",
      "source": [
        "df1.info()"
      ],
      "metadata": {
        "id": "s4rm6TSnkJIy",
        "colab": {
          "base_uri": "https://localhost:8080/"
        },
        "outputId": "ed6a243a-ff3f-4696-b9cd-237a85df0e0f"
      },
      "execution_count": null,
      "outputs": [
        {
          "output_type": "stream",
          "name": "stdout",
          "text": [
            "<class 'pandas.core.frame.DataFrame'>\n",
            "RangeIndex: 209 entries, 0 to 208\n",
            "Data columns (total 7 columns):\n",
            " #   Column  Non-Null Count  Dtype\n",
            "---  ------  --------------  -----\n",
            " 0   MYCT    209 non-null    int64\n",
            " 1   MMIN    209 non-null    int64\n",
            " 2   MMAX    209 non-null    int64\n",
            " 3   CACH    209 non-null    int64\n",
            " 4   CHMIN   209 non-null    int64\n",
            " 5   CHMAX   209 non-null    int64\n",
            " 6   class   209 non-null    int64\n",
            "dtypes: int64(7)\n",
            "memory usage: 11.6 KB\n"
          ]
        }
      ]
    },
    {
      "cell_type": "code",
      "source": [
        "df2.info()"
      ],
      "metadata": {
        "id": "fBTtHw2ckMJx",
        "colab": {
          "base_uri": "https://localhost:8080/"
        },
        "outputId": "856241ff-2d0f-4514-b5a8-9bba8f7fa35b"
      },
      "execution_count": null,
      "outputs": [
        {
          "output_type": "stream",
          "name": "stdout",
          "text": [
            "<class 'pandas.core.frame.DataFrame'>\n",
            "RangeIndex: 209 entries, 0 to 208\n",
            "Data columns (total 8 columns):\n",
            " #   Column  Non-Null Count  Dtype \n",
            "---  ------  --------------  ----- \n",
            " 0   vendor  209 non-null    object\n",
            " 1   MYCT    209 non-null    int64 \n",
            " 2   MMIN    209 non-null    int64 \n",
            " 3   MMAX    209 non-null    int64 \n",
            " 4   CACH    209 non-null    int64 \n",
            " 5   CHMIN   209 non-null    int64 \n",
            " 6   CHMAX   209 non-null    int64 \n",
            " 7   class   209 non-null    int64 \n",
            "dtypes: int64(7), object(1)\n",
            "memory usage: 13.2+ KB\n"
          ]
        }
      ]
    },
    {
      "cell_type": "code",
      "source": [
        "df1.dtypes"
      ],
      "metadata": {
        "id": "KuHUGXqRgrZg",
        "colab": {
          "base_uri": "https://localhost:8080/"
        },
        "outputId": "c9a8761d-a739-4720-dd37-e983d506d42b"
      },
      "execution_count": null,
      "outputs": [
        {
          "output_type": "execute_result",
          "data": {
            "text/plain": [
              "MYCT     int64\n",
              "MMIN     int64\n",
              "MMAX     int64\n",
              "CACH     int64\n",
              "CHMIN    int64\n",
              "CHMAX    int64\n",
              "class    int64\n",
              "dtype: object"
            ]
          },
          "metadata": {},
          "execution_count": 23
        }
      ]
    },
    {
      "cell_type": "code",
      "source": [
        "df2.dtypes"
      ],
      "metadata": {
        "id": "n4kt4sO_iLm5",
        "colab": {
          "base_uri": "https://localhost:8080/"
        },
        "outputId": "6fbde85f-4734-4100-b548-9ae04ffbb04d"
      },
      "execution_count": null,
      "outputs": [
        {
          "output_type": "execute_result",
          "data": {
            "text/plain": [
              "vendor    object\n",
              "MYCT       int64\n",
              "MMIN       int64\n",
              "MMAX       int64\n",
              "CACH       int64\n",
              "CHMIN      int64\n",
              "CHMAX      int64\n",
              "class      int64\n",
              "dtype: object"
            ]
          },
          "metadata": {},
          "execution_count": 24
        }
      ]
    },
    {
      "cell_type": "code",
      "source": [
        "np.shape('vendor')"
      ],
      "metadata": {
        "id": "-ZXgCTsAluTO",
        "colab": {
          "base_uri": "https://localhost:8080/"
        },
        "outputId": "42c347b5-9635-4dfc-d2f8-d3a96f640c1f"
      },
      "execution_count": null,
      "outputs": [
        {
          "output_type": "execute_result",
          "data": {
            "text/plain": [
              "()"
            ]
          },
          "metadata": {},
          "execution_count": 25
        }
      ]
    },
    {
      "cell_type": "code",
      "source": [
        "df2 = pd.read_csv('cpu_vendor.csv') # displays rows and columns of dataset\n",
        "print(df2)"
      ],
      "metadata": {
        "id": "UHWnsp5q3FGK",
        "colab": {
          "base_uri": "https://localhost:8080/"
        },
        "outputId": "933ea861-8e8a-438a-9ba7-5b89dd1c4ccf"
      },
      "execution_count": null,
      "outputs": [
        {
          "output_type": "stream",
          "name": "stdout",
          "text": [
            "      vendor  MYCT  MMIN   MMAX  CACH  CHMIN  CHMAX  class\n",
            "0    adviser   125   256   6000   256     16    128    199\n",
            "1     amdahl    29  8000  32000    32      8     32    253\n",
            "2     amdahl    29  8000  32000    32      8     32    253\n",
            "3     amdahl    29  8000  32000    32      8     32    253\n",
            "4     amdahl    29  8000  16000    32      8     16    132\n",
            "..       ...   ...   ...    ...   ...    ...    ...    ...\n",
            "204   sperry   124  1000   8000     0      1      8     37\n",
            "205   sperry    98  1000   8000    32      2      8     50\n",
            "206   sratus   125  2000   8000     0      2     14     41\n",
            "207     wang   480   512   8000    32      0      0     47\n",
            "208     wang   480  1000   4000     0      0      0     25\n",
            "\n",
            "[209 rows x 8 columns]\n"
          ]
        }
      ]
    },
    {
      "cell_type": "code",
      "source": [
        "# df = pd.read_csv('cpu_vendor.csv') # displays rows and columns of dataset\n",
        "#df['vendor'] = pd.get_dummies(df['vendor'])\n",
        "\n",
        "df2 = pd.read_csv('cpu_vendor.csv') # displays rows and columns of dataset\n",
        "\n",
        "df2 = pd.concat([pd.get_dummies(df2['vendor']), df2.drop('vendor', axis=1)], axis=1)\n",
        "\n",
        "print(df2)"
      ],
      "metadata": {
        "id": "nNhINbdci7BA",
        "colab": {
          "base_uri": "https://localhost:8080/"
        },
        "outputId": "44c15933-ce0d-40ba-fce9-abf2bcd1777b"
      },
      "execution_count": null,
      "outputs": [
        {
          "output_type": "stream",
          "name": "stdout",
          "text": [
            "     adviser  amdahl  apollo  basf  bti  burroughs  c.r.d  cambex  cdc  dec  \\\n",
            "0          1       0       0     0    0          0      0       0    0    0   \n",
            "1          0       1       0     0    0          0      0       0    0    0   \n",
            "2          0       1       0     0    0          0      0       0    0    0   \n",
            "3          0       1       0     0    0          0      0       0    0    0   \n",
            "4          0       1       0     0    0          0      0       0    0    0   \n",
            "..       ...     ...     ...   ...  ...        ...    ...     ...  ...  ...   \n",
            "204        0       0       0     0    0          0      0       0    0    0   \n",
            "205        0       0       0     0    0          0      0       0    0    0   \n",
            "206        0       0       0     0    0          0      0       0    0    0   \n",
            "207        0       0       0     0    0          0      0       0    0    0   \n",
            "208        0       0       0     0    0          0      0       0    0    0   \n",
            "\n",
            "     ...  sperry  sratus  wang  MYCT  MMIN   MMAX  CACH  CHMIN  CHMAX  class  \n",
            "0    ...       0       0     0   125   256   6000   256     16    128    199  \n",
            "1    ...       0       0     0    29  8000  32000    32      8     32    253  \n",
            "2    ...       0       0     0    29  8000  32000    32      8     32    253  \n",
            "3    ...       0       0     0    29  8000  32000    32      8     32    253  \n",
            "4    ...       0       0     0    29  8000  16000    32      8     16    132  \n",
            "..   ...     ...     ...   ...   ...   ...    ...   ...    ...    ...    ...  \n",
            "204  ...       1       0     0   124  1000   8000     0      1      8     37  \n",
            "205  ...       1       0     0    98  1000   8000    32      2      8     50  \n",
            "206  ...       0       1     0   125  2000   8000     0      2     14     41  \n",
            "207  ...       0       0     1   480   512   8000    32      0      0     47  \n",
            "208  ...       0       0     1   480  1000   4000     0      0      0     25  \n",
            "\n",
            "[209 rows x 37 columns]\n"
          ]
        }
      ]
    },
    {
      "cell_type": "code",
      "source": [
        "\n",
        "#Use LinearRegression for both datasets: model = LinearRegression(), model.fit(), model.score() with right parameters. \n",
        "#You can use different parameters and check the results. Your task is to predict class. \n",
        "#What are the differences in the scores of the models? What is the mathematical complexity of the models?\n",
        "\n",
        "\n",
        "from sklearn.linear_model import LinearRegression\n",
        "from sklearn.model_selection import train_test_split\n",
        "\n",
        "\n",
        "dataset = pd.read_csv('cpu_vendor.csv') \n",
        "\n",
        "dataset = pd.concat([pd.get_dummies(dataset['vendor']), dataset.drop('vendor', axis=1)], axis=1) #get dummies remove key error\n",
        "\n",
        " #assign x and y"
      ],
      "metadata": {
        "id": "Zyzg3vd_Mubv"
      },
      "execution_count": null,
      "outputs": []
    },
    {
      "cell_type": "code",
      "source": [
        "x=  dataset.iloc[:, :-1].values  # all but class\n",
        "print (x)"
      ],
      "metadata": {
        "colab": {
          "base_uri": "https://localhost:8080/"
        },
        "id": "P2fTM9_KMzaI",
        "outputId": "0e1fa9e8-c255-428a-b9f4-1b517aa68fbe"
      },
      "execution_count": null,
      "outputs": [
        {
          "output_type": "stream",
          "name": "stdout",
          "text": [
            "[[  1   0   0 ... 256  16 128]\n",
            " [  0   1   0 ...  32   8  32]\n",
            " [  0   1   0 ...  32   8  32]\n",
            " ...\n",
            " [  0   0   0 ...   0   2  14]\n",
            " [  0   0   0 ...  32   0   0]\n",
            " [  0   0   0 ...   0   0   0]]\n"
          ]
        }
      ]
    },
    {
      "cell_type": "code",
      "source": [
        "print (\"Dataset.head() \\n \", dataset.head())\n"
      ],
      "metadata": {
        "colab": {
          "base_uri": "https://localhost:8080/"
        },
        "id": "It-bQ3Q6M7V4",
        "outputId": "514b5dac-cd9d-411e-af47-673dd5f207c6"
      },
      "execution_count": null,
      "outputs": [
        {
          "output_type": "stream",
          "name": "stdout",
          "text": [
            "Dataset.head() \n",
            "     adviser  amdahl  apollo  basf  bti  burroughs  c.r.d  cambex  cdc  dec  \\\n",
            "0        1       0       0     0    0          0      0       0    0    0   \n",
            "1        0       1       0     0    0          0      0       0    0    0   \n",
            "2        0       1       0     0    0          0      0       0    0    0   \n",
            "3        0       1       0     0    0          0      0       0    0    0   \n",
            "4        0       1       0     0    0          0      0       0    0    0   \n",
            "\n",
            "   ...  sperry  sratus  wang  MYCT  MMIN   MMAX  CACH  CHMIN  CHMAX  class  \n",
            "0  ...       0       0     0   125   256   6000   256     16    128    199  \n",
            "1  ...       0       0     0    29  8000  32000    32      8     32    253  \n",
            "2  ...       0       0     0    29  8000  32000    32      8     32    253  \n",
            "3  ...       0       0     0    29  8000  32000    32      8     32    253  \n",
            "4  ...       0       0     0    29  8000  16000    32      8     16    132  \n",
            "\n",
            "[5 rows x 37 columns]\n"
          ]
        }
      ]
    },
    {
      "cell_type": "code",
      "source": [
        "print(\"\\nFirst 10 Input Values : \\n\", x[0:10, :])"
      ],
      "metadata": {
        "colab": {
          "base_uri": "https://localhost:8080/"
        },
        "id": "yczMFecAPUGf",
        "outputId": "01daabf5-8ed9-4013-84d0-dc1c2a83ec47"
      },
      "execution_count": null,
      "outputs": [
        {
          "output_type": "stream",
          "name": "stdout",
          "text": [
            "\n",
            "First 10 Input Values : \n",
            " [[    1     0     0     0     0     0     0     0     0     0     0     0\n",
            "      0     0     0     0     0     0     0     0     0     0     0     0\n",
            "      0     0     0     0     0     0   125   256  6000   256    16   128]\n",
            " [    0     1     0     0     0     0     0     0     0     0     0     0\n",
            "      0     0     0     0     0     0     0     0     0     0     0     0\n",
            "      0     0     0     0     0     0    29  8000 32000    32     8    32]\n",
            " [    0     1     0     0     0     0     0     0     0     0     0     0\n",
            "      0     0     0     0     0     0     0     0     0     0     0     0\n",
            "      0     0     0     0     0     0    29  8000 32000    32     8    32]\n",
            " [    0     1     0     0     0     0     0     0     0     0     0     0\n",
            "      0     0     0     0     0     0     0     0     0     0     0     0\n",
            "      0     0     0     0     0     0    29  8000 32000    32     8    32]\n",
            " [    0     1     0     0     0     0     0     0     0     0     0     0\n",
            "      0     0     0     0     0     0     0     0     0     0     0     0\n",
            "      0     0     0     0     0     0    29  8000 16000    32     8    16]\n",
            " [    0     1     0     0     0     0     0     0     0     0     0     0\n",
            "      0     0     0     0     0     0     0     0     0     0     0     0\n",
            "      0     0     0     0     0     0    26  8000 32000    64     8    32]\n",
            " [    0     1     0     0     0     0     0     0     0     0     0     0\n",
            "      0     0     0     0     0     0     0     0     0     0     0     0\n",
            "      0     0     0     0     0     0    23 16000 32000    64    16    32]\n",
            " [    0     1     0     0     0     0     0     0     0     0     0     0\n",
            "      0     0     0     0     0     0     0     0     0     0     0     0\n",
            "      0     0     0     0     0     0    23 16000 32000    64    16    32]\n",
            " [    0     1     0     0     0     0     0     0     0     0     0     0\n",
            "      0     0     0     0     0     0     0     0     0     0     0     0\n",
            "      0     0     0     0     0     0    23 16000 64000    64    16    32]\n",
            " [    0     1     0     0     0     0     0     0     0     0     0     0\n",
            "      0     0     0     0     0     0     0     0     0     0     0     0\n",
            "      0     0     0     0     0     0    23 32000 64000   128    32    64]]\n"
          ]
        }
      ]
    },
    {
      "cell_type": "code",
      "source": [
        "\n",
        "y = dataset['class'].values \n",
        "print (y)\n",
        "y1 = y\n",
        "y1 = y1.reshape(-1, 1)\n",
        "print(\"\\n\\nFirst 10 Output true value : \\n\", y1[0:10, :])"
      ],
      "metadata": {
        "colab": {
          "base_uri": "https://localhost:8080/"
        },
        "id": "uN5qZCGrM38O",
        "outputId": "2113c179-9536-44ed-f4de-f836af9b2ef0"
      },
      "execution_count": null,
      "outputs": [
        {
          "output_type": "stream",
          "name": "stdout",
          "text": [
            "[ 199  253  253  253  132  290  381  381  749 1238   23   24   70  117\n",
            "   15   64   23   29   22  124   35   39   40   45   28   21   28   22\n",
            "   28   27  102  102   74   74  138  136   23   29   44   30   41   74\n",
            "   74   74   54   41   18   28   36   38   34   19   72   36   30   56\n",
            "   42   34   34   34   34   34   19   75  113  157   18   20   28   33\n",
            "   47   54   20   23   25   52   27   50   18   53   23   30   73   20\n",
            "   25   28   29   32  175   57  181  181   32   82  171  361  350  220\n",
            "  113   15   21   35   18   20   20   28   45   18   17   26   28   28\n",
            "   31   31   42   76   76   26   59   65  101  116   18   20   20   30\n",
            "   44   44   82   82  128   37   46   46   80   88   88   33   46   29\n",
            "   53   53   41   86   95  107  117  119  120   48  126  266  270  426\n",
            "  151  267  603   19   21   26   35   41   47   62   78   80   80  142\n",
            "  281  190   21   25   67   24   24   64   25   20   29   43   53   19\n",
            "   22   31   41   47   99   67   81  149  183  275  382   56  182  227\n",
            "  341  360  919  978   24   24   24   24   37   50   41   47   25]\n",
            "\n",
            "\n",
            "First 10 Output true value : \n",
            " [[ 199]\n",
            " [ 253]\n",
            " [ 253]\n",
            " [ 253]\n",
            " [ 132]\n",
            " [ 290]\n",
            " [ 381]\n",
            " [ 381]\n",
            " [ 749]\n",
            " [1238]]\n"
          ]
        }
      ]
    },
    {
      "cell_type": "code",
      "source": [
        "xtrain, xtest, ytrain, ytest = train_test_split(x, y, test_size = 0.2, random_state = 0)\n",
        "\n",
        "model = LinearRegression()\n",
        "\n",
        "model.fit(xtrain, ytrain) #fit\n",
        "\n",
        "r_sq = model.score(xtest, ytest)"
      ],
      "metadata": {
        "id": "Ab2D_GVXPnmQ"
      },
      "execution_count": null,
      "outputs": []
    },
    {
      "cell_type": "code",
      "source": [
        "y_pred = model.predict(xtest)\n",
        "print(f\"predicted response x:\\n{y_pred}\")\n",
        "   \n",
        "y_pred1 = y_pred\n",
        "y_pred1 = y_pred1.reshape(-1,1)\n",
        "   \n",
        "print(\"\\n   RESULT OF LINEAR REGRESSION PREDICTION : \")\n",
        "print (\"\\nFirst 10 Predicted value : \\n\", y_pred1[0:10, :])"
      ],
      "metadata": {
        "id": "wvV-7PC4woEj",
        "colab": {
          "base_uri": "https://localhost:8080/"
        },
        "outputId": "da4dda87-0580-4993-f20b-fb911fd3887a"
      },
      "execution_count": null,
      "outputs": [
        {
          "output_type": "stream",
          "name": "stdout",
          "text": [
            "predicted response x:\n",
            "[ 34.96219718 -63.62905215  85.10288078 329.79562195  99.05069405\n",
            " -70.83748694  78.43773879  48.56398268 216.35643742 157.4287584\n",
            "  35.49906714 539.38780353  82.80865695 246.45641894 472.57975677\n",
            " -48.97262973  72.4732777   -7.13119156 -26.07826145 -60.31571147\n",
            "  -8.09163848 147.49434049 467.78284969  56.74806962 -15.50528646\n",
            " 110.55364292 -12.88444902   3.87250729 -34.282316    49.41124133\n",
            "  64.5477403   -2.64524057   1.40177849 141.05971152 144.78549101\n",
            "  69.08448032  -3.54689037  37.10263258 -63.20761797 110.89945375\n",
            " 263.63796024  77.0052194 ]\n",
            "\n",
            "   RESULT OF LINEAR REGRESSION PREDICTION : \n",
            "\n",
            "First 10 Predicted value : \n",
            " [[ 34.96219718]\n",
            " [-63.62905215]\n",
            " [ 85.10288078]\n",
            " [329.79562195]\n",
            " [ 99.05069405]\n",
            " [-70.83748694]\n",
            " [ 78.43773879]\n",
            " [ 48.56398268]\n",
            " [216.35643742]\n",
            " [157.4287584 ]]\n"
          ]
        }
      ]
    },
    {
      "cell_type": "code",
      "source": [
        "dataset.keys()"
      ],
      "metadata": {
        "colab": {
          "base_uri": "https://localhost:8080/"
        },
        "id": "nRaqLKYlR8wH",
        "outputId": "d3a6d962-8d92-4269-94b5-e3fe8368aa15"
      },
      "execution_count": null,
      "outputs": [
        {
          "output_type": "execute_result",
          "data": {
            "text/plain": [
              "Index(['adviser', 'amdahl', 'apollo', 'basf', 'bti', 'burroughs', 'c.r.d',\n",
              "       'cambex', 'cdc', 'dec', 'dg', 'formation', 'four-phase', 'gould',\n",
              "       'harris', 'honeywell', 'hp', 'ibm', 'ipl', 'magnuson', 'microdata',\n",
              "       'nas', 'ncr', 'nixdorf', 'perkin-elmer', 'prime', 'siemens', 'sperry',\n",
              "       'sratus', 'wang', 'MYCT', 'MMIN', 'MMAX', 'CACH', 'CHMIN', 'CHMAX',\n",
              "       'class'],\n",
              "      dtype='object')"
            ]
          },
          "metadata": {},
          "execution_count": 45
        }
      ]
    },
    {
      "cell_type": "markdown",
      "metadata": {
        "id": "TZnPAlmXpMrB"
      },
      "source": [
        "1. What all these variables mean? Check [here](https://archive.ics.uci.edu/ml/datasets/Computer+Hardware). Attention! `class` $\\equiv$ `PRP`.\n",
        "2. How do these datasets differ?\n",
        "3. What type is the `vendor` and `class` data series? Use `dtype`.\n",
        "4. String cannot be used in linear regression. But `vendor` describes categories and this is fine for us. <br> Use `df['vendor'] = pd.get_dummies(df['vendor'])`. What happened?\n",
        "5. Use LinearRegression for both datasets: `model = LinearRegression(), model.fit(), model.score()` with right parameters. You can use different parameters and check the results. Your task is to predict `class`. \n",
        "What are the differences in the scores of the models? What is the mathematical complexity of the models?\n",
        "6. What are the coefficients of the regression equation? Check them using `model.coef_` i `model.intercept_`. What do they mean?\n",
        "7. What will be the value of `class` depending on the data the user enters? Try to predict the results for a few examples. How to do it? <br> [Look here](https://gist.github.com/a-i-dan/413f779292788cb3a7106a5a7efde938/) or just use `model.predict()`.\n",
        "\n",
        "Hint to 4:\n",
        "`df = pd.concat([pd.get_dummies(df['vendor']), df.drop('vendor', axis=1)], axis=1)` <br> allows for creating dataframe that is OK for the model. Why?\n",
        "\n",
        "**Put the answers to these questions (1 and 7 is not obligatory).** \\\\\n",
        "**You can get 1 point for each correct answer.**"
      ]
    },
    {
      "cell_type": "code",
      "metadata": {
        "id": "C8JrAwUaKmWW"
      },
      "source": [
        "# check the data and perform regression task"
      ],
      "execution_count": null,
      "outputs": []
    },
    {
      "cell_type": "code",
      "metadata": {
        "id": "j7Ji2sMHG7wa",
        "colab": {
          "base_uri": "https://localhost:8080/"
        },
        "outputId": "ef30642a-be6b-440d-e621-e542ed12df5b"
      },
      "source": [
        "# predict\n",
        "\n",
        "\n",
        "\n",
        "print(f\"coefficient of determination: {r_sq}\")\n",
        "\n",
        "print(f\"intercept: {model.intercept_}\")\n",
        "\n",
        "print(f\"slope: {model.coef_}\")\n"
      ],
      "execution_count": null,
      "outputs": [
        {
          "output_type": "stream",
          "name": "stdout",
          "text": [
            "coefficient of determination: 0.7791673058680394\n",
            "intercept: -76.7635817080922\n",
            "slope: [-1.21924344e+02 -5.64759266e+00  3.24504704e+01 -2.42820193e+01\n",
            "  5.95723139e+01 -4.40969929e+01  3.80707825e+01  2.63681516e+01\n",
            "  1.28558635e+01  1.78652928e+01  2.96932061e+01 -1.08355439e+00\n",
            "  5.01427746e+01 -4.28363744e+01  2.56831882e+00 -4.98145223e+01\n",
            "  2.10604755e+01 -2.60765921e+00 -5.56711050e+00  2.62345539e+01\n",
            " -1.59187495e+02 -2.52654945e+01 -3.21334833e+00  2.22531103e+01\n",
            "  2.91592274e+01  2.13129601e+01  2.02428200e+01  5.01648142e+01\n",
            "  3.64988643e+00  2.18614851e+01  7.17060313e-02  1.93664453e-02\n",
            "  5.50274655e-03  5.51605598e-01 -2.09115212e+00  1.89842018e+00]\n"
          ]
        }
      ]
    },
    {
      "cell_type": "markdown",
      "metadata": {
        "id": "bZv4ESou7nUR"
      },
      "source": [
        "### Part 6: Decision Trees"
      ]
    },
    {
      "cell_type": "markdown",
      "metadata": {
        "id": "WMDmd_Ki1usY"
      },
      "source": [
        "Learn about decision trees here: [1](https://towardsdatascience.com/how-to-do-decision-trees-in-python-and-r-2b0902b097ec), [2](https://towardsdatascience.com/the-complete-guide-to-decision-trees-28a4e3c7be14), [3](https://dinhanhthi.com/decision-tree-classifier)."
      ]
    },
    {
      "cell_type": "markdown",
      "metadata": {
        "id": "3xlnsggf2Vw2"
      },
      "source": [
        "Introductory questions:\n",
        "\n",
        "1. What is the main difference between ID3 and CART?\n",
        "2. What is `gini` and `entropy`? \n",
        "\n",
        "**You do not have to put anything in your report, just think.**"
      ]
    },
    {
      "cell_type": "markdown",
      "metadata": {
        "id": "2ozzzfr-4V6P"
      },
      "source": [
        "Use <ins>swimming dataset</ins> and answer following questions.\n",
        "\n",
        "1. Try to draw a decision tree for this data set on a piece of paper. We predict whether the given conditions will be liked -- `enjoy`.\n",
        "2. Fill in the code below and check if the figure corresponds to the one you drew.\n",
        "3. What are `gini` and `entropy` values? What do they mean?\n",
        "4. Are the generated trees different depending on parameters?\n",
        "5. Reduce the number of variable features -- e.g. remove airTemp -- how do it influence the results?\n",
        "\n",
        "**Put the code into your report.** \\\\\n",
        "**You can get 2 points for full (see below) correct solution.**"
      ]
    },
    {
      "cell_type": "code",
      "metadata": {
        "id": "Ph0yl39GUYzO"
      },
      "source": [
        "# load the data"
      ],
      "execution_count": null,
      "outputs": []
    },
    {
      "cell_type": "code",
      "metadata": {
        "id": "6E5JPwIR_kBV"
      },
      "source": [
        "from sklearn import tree\n",
        "\n",
        "clf_entropy = # fill\n",
        "clf_gini = # fill"
      ],
      "execution_count": null,
      "outputs": []
    },
    {
      "cell_type": "code",
      "metadata": {
        "id": "kPZf-EGa4STZ",
        "colab": {
          "base_uri": "https://localhost:8080/",
          "height": 206
        },
        "outputId": "e96ec338-387f-428a-90aa-4154a07cd2f6"
      },
      "source": [
        "# present the data"
      ],
      "execution_count": null,
      "outputs": [
        {
          "output_type": "execute_result",
          "data": {
            "text/html": [
              "<div>\n",
              "<style scoped>\n",
              "    .dataframe tbody tr th:only-of-type {\n",
              "        vertical-align: middle;\n",
              "    }\n",
              "\n",
              "    .dataframe tbody tr th {\n",
              "        vertical-align: top;\n",
              "    }\n",
              "\n",
              "    .dataframe thead th {\n",
              "        text-align: right;\n",
              "    }\n",
              "</style>\n",
              "<table border=\"1\" class=\"dataframe\">\n",
              "  <thead>\n",
              "    <tr style=\"text-align: right;\">\n",
              "      <th></th>\n",
              "      <th>sky</th>\n",
              "      <th>airTemp</th>\n",
              "      <th>humidity</th>\n",
              "      <th>wind</th>\n",
              "      <th>water</th>\n",
              "      <th>forecast</th>\n",
              "      <th>enjoy</th>\n",
              "    </tr>\n",
              "  </thead>\n",
              "  <tbody>\n",
              "    <tr>\n",
              "      <th>0</th>\n",
              "      <td>sunny</td>\n",
              "      <td>warm</td>\n",
              "      <td>normal</td>\n",
              "      <td>strong</td>\n",
              "      <td>warm</td>\n",
              "      <td>same</td>\n",
              "      <td>yes</td>\n",
              "    </tr>\n",
              "    <tr>\n",
              "      <th>1</th>\n",
              "      <td>sunny</td>\n",
              "      <td>warm</td>\n",
              "      <td>high</td>\n",
              "      <td>strong</td>\n",
              "      <td>warm</td>\n",
              "      <td>same</td>\n",
              "      <td>yes</td>\n",
              "    </tr>\n",
              "    <tr>\n",
              "      <th>2</th>\n",
              "      <td>rainy</td>\n",
              "      <td>cold</td>\n",
              "      <td>high</td>\n",
              "      <td>strong</td>\n",
              "      <td>warm</td>\n",
              "      <td>change</td>\n",
              "      <td>no</td>\n",
              "    </tr>\n",
              "    <tr>\n",
              "      <th>3</th>\n",
              "      <td>sunny</td>\n",
              "      <td>warm</td>\n",
              "      <td>high</td>\n",
              "      <td>strong</td>\n",
              "      <td>cool</td>\n",
              "      <td>change</td>\n",
              "      <td>yes</td>\n",
              "    </tr>\n",
              "    <tr>\n",
              "      <th>4</th>\n",
              "      <td>cloudy</td>\n",
              "      <td>warm</td>\n",
              "      <td>normal</td>\n",
              "      <td>weak</td>\n",
              "      <td>warm</td>\n",
              "      <td>same</td>\n",
              "      <td>yes</td>\n",
              "    </tr>\n",
              "  </tbody>\n",
              "</table>\n",
              "</div>"
            ],
            "text/plain": [
              "      sky airTemp humidity    wind water forecast enjoy\n",
              "0   sunny    warm   normal  strong  warm     same   yes\n",
              "1   sunny    warm     high  strong  warm     same   yes\n",
              "2   rainy    cold     high  strong  warm   change    no\n",
              "3   sunny    warm     high  strong  cool   change   yes\n",
              "4  cloudy    warm   normal    weak  warm     same   yes"
            ]
          },
          "metadata": {
            "tags": []
          },
          "execution_count": 154
        }
      ]
    },
    {
      "cell_type": "code",
      "metadata": {
        "id": "udcI1ACO4ctb"
      },
      "source": [
        "x = pd.get_dummies(df.drop('enjoy', axis=1))\n",
        "y = # fill\n",
        "\n",
        "clf = # fill"
      ],
      "execution_count": null,
      "outputs": []
    },
    {
      "cell_type": "code",
      "metadata": {
        "id": "Cb4V4_ATC1r0",
        "colab": {
          "base_uri": "https://localhost:8080/",
          "height": 238
        },
        "outputId": "46af9374-5ac2-4b3f-f36d-0ea0359e7657"
      },
      "source": [
        "pd.get_dummies(df.drop('enjoy', axis=1)) # what is going on here?"
      ],
      "execution_count": null,
      "outputs": [
        {
          "output_type": "execute_result",
          "data": {
            "text/html": [
              "<div>\n",
              "<style scoped>\n",
              "    .dataframe tbody tr th:only-of-type {\n",
              "        vertical-align: middle;\n",
              "    }\n",
              "\n",
              "    .dataframe tbody tr th {\n",
              "        vertical-align: top;\n",
              "    }\n",
              "\n",
              "    .dataframe thead th {\n",
              "        text-align: right;\n",
              "    }\n",
              "</style>\n",
              "<table border=\"1\" class=\"dataframe\">\n",
              "  <thead>\n",
              "    <tr style=\"text-align: right;\">\n",
              "      <th></th>\n",
              "      <th>sky_cloudy</th>\n",
              "      <th>sky_rainy</th>\n",
              "      <th>sky_sunny</th>\n",
              "      <th>airTemp_cold</th>\n",
              "      <th>airTemp_warm</th>\n",
              "      <th>humidity_high</th>\n",
              "      <th>humidity_normal</th>\n",
              "      <th>wind_strong</th>\n",
              "      <th>wind_weak</th>\n",
              "      <th>water_cool</th>\n",
              "      <th>water_warm</th>\n",
              "      <th>forecast_change</th>\n",
              "      <th>forecast_same</th>\n",
              "    </tr>\n",
              "  </thead>\n",
              "  <tbody>\n",
              "    <tr>\n",
              "      <th>0</th>\n",
              "      <td>0</td>\n",
              "      <td>0</td>\n",
              "      <td>1</td>\n",
              "      <td>0</td>\n",
              "      <td>1</td>\n",
              "      <td>0</td>\n",
              "      <td>1</td>\n",
              "      <td>1</td>\n",
              "      <td>0</td>\n",
              "      <td>0</td>\n",
              "      <td>1</td>\n",
              "      <td>0</td>\n",
              "      <td>1</td>\n",
              "    </tr>\n",
              "    <tr>\n",
              "      <th>1</th>\n",
              "      <td>0</td>\n",
              "      <td>0</td>\n",
              "      <td>1</td>\n",
              "      <td>0</td>\n",
              "      <td>1</td>\n",
              "      <td>1</td>\n",
              "      <td>0</td>\n",
              "      <td>1</td>\n",
              "      <td>0</td>\n",
              "      <td>0</td>\n",
              "      <td>1</td>\n",
              "      <td>0</td>\n",
              "      <td>1</td>\n",
              "    </tr>\n",
              "    <tr>\n",
              "      <th>2</th>\n",
              "      <td>0</td>\n",
              "      <td>1</td>\n",
              "      <td>0</td>\n",
              "      <td>1</td>\n",
              "      <td>0</td>\n",
              "      <td>1</td>\n",
              "      <td>0</td>\n",
              "      <td>1</td>\n",
              "      <td>0</td>\n",
              "      <td>0</td>\n",
              "      <td>1</td>\n",
              "      <td>1</td>\n",
              "      <td>0</td>\n",
              "    </tr>\n",
              "    <tr>\n",
              "      <th>3</th>\n",
              "      <td>0</td>\n",
              "      <td>0</td>\n",
              "      <td>1</td>\n",
              "      <td>0</td>\n",
              "      <td>1</td>\n",
              "      <td>1</td>\n",
              "      <td>0</td>\n",
              "      <td>1</td>\n",
              "      <td>0</td>\n",
              "      <td>1</td>\n",
              "      <td>0</td>\n",
              "      <td>1</td>\n",
              "      <td>0</td>\n",
              "    </tr>\n",
              "    <tr>\n",
              "      <th>4</th>\n",
              "      <td>1</td>\n",
              "      <td>0</td>\n",
              "      <td>0</td>\n",
              "      <td>0</td>\n",
              "      <td>1</td>\n",
              "      <td>0</td>\n",
              "      <td>1</td>\n",
              "      <td>0</td>\n",
              "      <td>1</td>\n",
              "      <td>0</td>\n",
              "      <td>1</td>\n",
              "      <td>0</td>\n",
              "      <td>1</td>\n",
              "    </tr>\n",
              "    <tr>\n",
              "      <th>5</th>\n",
              "      <td>1</td>\n",
              "      <td>0</td>\n",
              "      <td>0</td>\n",
              "      <td>1</td>\n",
              "      <td>0</td>\n",
              "      <td>1</td>\n",
              "      <td>0</td>\n",
              "      <td>0</td>\n",
              "      <td>1</td>\n",
              "      <td>1</td>\n",
              "      <td>0</td>\n",
              "      <td>0</td>\n",
              "      <td>1</td>\n",
              "    </tr>\n",
              "  </tbody>\n",
              "</table>\n",
              "</div>"
            ],
            "text/plain": [
              "   sky_cloudy  sky_rainy  sky_sunny  ...  water_warm  forecast_change  forecast_same\n",
              "0           0          0          1  ...           1                0              1\n",
              "1           0          0          1  ...           1                0              1\n",
              "2           0          1          0  ...           1                1              0\n",
              "3           0          0          1  ...           0                1              0\n",
              "4           1          0          0  ...           1                0              1\n",
              "5           1          0          0  ...           0                0              1\n",
              "\n",
              "[6 rows x 13 columns]"
            ]
          },
          "metadata": {
            "tags": []
          },
          "execution_count": 157
        }
      ]
    },
    {
      "cell_type": "code",
      "metadata": {
        "id": "DlkCZIFS6kou"
      },
      "source": [
        "# use the following code to visualize the tree\n",
        "\n",
        "from IPython.display import Image\n",
        "import pydotplus\n",
        "\n",
        "columns = pd.get_dummies(df.drop('enjoy', axis=1)).columns\n",
        "\n",
        "dot_data = tree.export_graphviz(clf, out_file=None, rounded=True, filled=True, feature_names=columns)\n",
        "graph = pydotplus.graph_from_dot_data(dot_data)\n",
        "Image(graph.create_png())"
      ],
      "execution_count": null,
      "outputs": []
    },
    {
      "cell_type": "markdown",
      "metadata": {
        "id": "mgN_Ffh6yVgj"
      },
      "source": [
        "1. What the next lines in the 'cells' of the tree mean? 'X <= R', 'gini/entropy = Y', 'samples = Z', 'value = V'?\n",
        "2. Use `model.predict()`, to predict `enjoy` for several instances from dataset and propose your own examples.\n",
        "\n",
        "**Put the code into your report.** \\\\\n",
        "**You can get 2 points for (full) correct solution.**"
      ]
    },
    {
      "cell_type": "code",
      "metadata": {
        "id": "lRxjX0MgG1k7"
      },
      "source": [
        "# predict"
      ],
      "execution_count": null,
      "outputs": []
    },
    {
      "cell_type": "markdown",
      "metadata": {
        "id": "qjWOKxbWGwEC"
      },
      "source": [
        "Using the example above, generate the decision tree for <ins>iris</ins> dataset. We predict the iris name!"
      ]
    },
    {
      "cell_type": "markdown",
      "metadata": {
        "id": "ONxEAgQYHQLR"
      },
      "source": [
        "1. Do we need to use `pd.get_dummies()`? Why or why not?\n",
        "2. What do the `max_depth`, `min_samples_split`, `min_samples_leaf` parameters do?\n",
        "3. Generate graphical representations of the decision trees for different values of parameters above.\n",
        "\n",
        "**Put the answers to these questions.** \\\\\n",
        "**You can get 1 point for each correct answer.**"
      ]
    },
    {
      "cell_type": "code",
      "metadata": {
        "id": "E6dEMHgwHJS8"
      },
      "source": [
        "# model"
      ],
      "execution_count": null,
      "outputs": []
    },
    {
      "cell_type": "markdown",
      "metadata": {
        "id": "o5-UGUsCHK2P"
      },
      "source": [
        "1. Use `model.predict()`, to predict iris name for several instances from dataset and propose your own examples.\n",
        "2. Can we use decision trees for regression task? \n",
        "\n",
        "**You do not have to put the answers to these questions in your report.**"
      ]
    },
    {
      "cell_type": "code",
      "metadata": {
        "id": "fG9eQ2_4HLLy"
      },
      "source": [
        "# predict"
      ],
      "execution_count": null,
      "outputs": []
    },
    {
      "cell_type": "markdown",
      "source": [
        "**Extra task (not obligatory).**\n",
        "\n",
        "Spróbuj wykorzystać SVM, kNN, NB i RF analogicznie jak drzewa decyzyjne."
      ],
      "metadata": {
        "id": "nOk8pp_3GzJs"
      }
    },
    {
      "cell_type": "code",
      "source": [
        "# SVM"
      ],
      "metadata": {
        "id": "M6ZkL3FiGyjV"
      },
      "execution_count": null,
      "outputs": []
    },
    {
      "cell_type": "code",
      "source": [
        "# kNN"
      ],
      "metadata": {
        "id": "nMBB0AinG_Lw"
      },
      "execution_count": null,
      "outputs": []
    },
    {
      "cell_type": "code",
      "source": [
        "# NB"
      ],
      "metadata": {
        "id": "fKE1i4u1IdWk"
      },
      "execution_count": null,
      "outputs": []
    },
    {
      "cell_type": "code",
      "source": [
        "# RF - what are ensemble methods?"
      ],
      "metadata": {
        "id": "RsNKBhZRIfSQ"
      },
      "execution_count": null,
      "outputs": []
    },
    {
      "cell_type": "markdown",
      "metadata": {
        "id": "HcBOP4MB_95R"
      },
      "source": [
        "### Part 7: Neural Networks"
      ]
    },
    {
      "cell_type": "markdown",
      "metadata": {
        "id": "L1jV0aSjK5EA"
      },
      "source": [
        "Learn about neural networks here: [1](https://towardsdatascience.com/machine-learning-for-beginners-an-introduction-to-neural-networks-d49f22d238f9), [2](https://towardsdatascience.com/first-neural-network-for-beginners-explained-with-code-4cfd37e06eaf), [3](https://www.kdnuggets.com/2016/10/beginners-guide-neural-networks-python-scikit-learn.html).\n",
        "\n",
        "1. Draw 3 neurons (sheet of paper, notepad, whatever). Neurons have:\n",
        "  *   Two binary inputs: x<sub>1</sub>, x<sub>2</sub>\n",
        "  *   Additional input - constant - what is its other name?\n",
        "  *   **Weights - determine them!**\n",
        "  *   Activation function f(x) where $f(x)=1$ for $\\sum w_i*x_i \\geq 0$ or $f(x)=0$ dla $\\sum w_i*x_i < 0$.\n",
        "  *   To represent following these operations: $x_1 OR \\ x_2$, $x_1 AND \\ x_2$, $x_1 XOR \\ x_2$. Czy jest to możliwe? [Hint](https://medium.com/@stanleydukor/neural-representation-of-and-or-not-xor-and-xnor-logic-gates-perceptron-algorithm-b0275375fea1).\n",
        "2. Using [this tool](https://playground.tensorflow.org), try to understand how neural networks work.\n",
        "  * Try different combinations of input parameters (features), activation functions, etc.\n",
        "  * Do not use hidden layers. For which set was the training unsuccessful? Why?\n",
        "  * Use hidden layers. How many layers are enough for the network to work for each example?\n",
        "  * What patterns do hidden neurons learn? You can hover the mouse over them to check it.\n",
        "  * Try adding some noise. It resembles reality more now!\n",
        "  * Challenge: try to train the spiral dataset with as few neurons, layers and epochs as possible!\n",
        "\n",
        "3. Complete the code starting with loading the file <ins>diabetes</ins>. More information is available on [Kaggle](https://www.kaggle.com/uciml/pima-indians-diabetes-database).\n",
        "4. What do the variables mean?\n",
        "5. What do we predict?\n",
        "6. What are the dimensions of X? How many features do we have?\n",
        "7. Is it classification or regression?\n",
        "\n",
        "Dataset from:\n",
        "Smith, J. W., Everhart, J. E., Dickson, W. C., Knowler, W. C., & Johannes, R. S. (1988, November). Using the ADAP learning algorithm to forecast the onset of diabetes mellitus. In: *Proceedings of the Annual Symposium on Computer Application in Medical Care* (p. 261). American Medical Informatics Association.\n",
        "\n",
        "**Attention! You do not have to answer all these questions but your report contains some additional ones.** \\\\\n",
        "**You can get 1 point for each correct answer.**"
      ]
    },
    {
      "cell_type": "code",
      "metadata": {
        "id": "oD6xAqS6UZNO"
      },
      "source": [
        "# load the file"
      ],
      "execution_count": null,
      "outputs": []
    },
    {
      "cell_type": "code",
      "metadata": {
        "id": "Vm0vy1n6Vprl"
      },
      "source": [
        "df = pd.read_csv('diabetes.csv')\n",
        "df.head()"
      ],
      "execution_count": null,
      "outputs": []
    },
    {
      "cell_type": "code",
      "metadata": {
        "id": "8JpythWrW_Qq"
      },
      "source": [
        "# check type of columns in df"
      ],
      "execution_count": null,
      "outputs": []
    },
    {
      "cell_type": "code",
      "metadata": {
        "id": "tHGfqNEbXBXJ"
      },
      "source": [
        "# count the number of instances, calculate means, variances, etc."
      ],
      "execution_count": null,
      "outputs": []
    },
    {
      "cell_type": "code",
      "metadata": {
        "id": "VeqcoRiJdFha"
      },
      "source": [
        "# show how many classes are there"
      ],
      "execution_count": null,
      "outputs": []
    },
    {
      "cell_type": "code",
      "metadata": {
        "id": "Rt8KdDz0WrFJ"
      },
      "source": [
        "x = df.drop('class', axis=1).values\n",
        "y = df['class'].to_numpy()"
      ],
      "execution_count": null,
      "outputs": []
    },
    {
      "cell_type": "code",
      "metadata": {
        "id": "31JZj1ZqW731"
      },
      "source": [
        "# check type of x and y"
      ],
      "execution_count": null,
      "outputs": []
    },
    {
      "cell_type": "code",
      "metadata": {
        "id": "nl-l2KZKXpei"
      },
      "source": [
        "from sklearn.model_selection import train_test_split\n",
        "\n",
        "X_train, X_test, y_train, y_test = train_test_split(x, y, test_size=0.25, random_state=0) # what is going on here?"
      ],
      "execution_count": null,
      "outputs": []
    },
    {
      "cell_type": "code",
      "metadata": {
        "id": "-oQ7P9GSYfnF"
      },
      "source": [
        "### NEURAL NETWORK TRAINING ###\n",
        "\n",
        "# you do not have to change anything here (for now), just run it\n",
        "\n",
        "from keras.models import Sequential\n",
        "from keras.layers import Dense\n",
        "\n",
        "NB_EPOCHS = 1000 \n",
        "BATCH_SIZE = 16\n",
        "\n",
        "model = Sequential()\n",
        "\n",
        "# adding layers\n",
        "model.add(Dense(12, input_dim=8, activation='relu'))\n",
        "model.add(Dense(8, activation='relu'))\n",
        "model.add(Dense(1, activation='sigmoid' ))\n",
        "\n",
        "model.compile(loss='binary_crossentropy', optimizer='adam', metrics=['accuracy']) # metrics\n",
        "\n",
        "print('Starting training...')\n",
        "\n",
        "history = model.fit(X_train,\n",
        "                    y_train,\n",
        "                    validation_data=(X_test, y_test),\n",
        "                    epochs=NB_EPOCHS,\n",
        "                    batch_size=BATCH_SIZE,\n",
        "                    verbose=1)"
      ],
      "execution_count": null,
      "outputs": []
    },
    {
      "cell_type": "code",
      "source": [
        "# visualisation"
      ],
      "metadata": {
        "id": "NcEw61IsRZv_"
      },
      "execution_count": null,
      "outputs": []
    },
    {
      "cell_type": "markdown",
      "source": [
        "1. Use this [link](https://www.tensorflow.org/api_docs/python/tf/keras/utils/plot_model) to visualise architecture of this network.\n",
        "2. How many layers are there?\n",
        "3. What is a batch size? \n",
        "4. What are epochs? Look [here](https://stats.stackexchange.com/questions/153531/what-is-batch-size-in-neural-network).\n",
        "\n",
        "**Put answers to last to questions to your report.** \\\\\n",
        "**You can get 1 point for correct answer.**"
      ],
      "metadata": {
        "id": "aooU9CiORaNM"
      }
    },
    {
      "cell_type": "markdown",
      "metadata": {
        "id": "DrsDzZ-HILZi"
      },
      "source": [
        "1. Using `model.predict()` i `model.predict_classes()` try to predict classes for several instances from provided dataset and your own examples.\n",
        "2. What is the difference between these two functions?\n",
        "\n",
        "**You do not have to put your answer into report to these questions.** \\\\"
      ]
    },
    {
      "cell_type": "code",
      "metadata": {
        "id": "SnoTjOSoIK7w"
      },
      "source": [
        "# predict"
      ],
      "execution_count": null,
      "outputs": []
    },
    {
      "cell_type": "markdown",
      "metadata": {
        "id": "4ZnWXZo6TLUq"
      },
      "source": [
        "### Part 8: Validation"
      ]
    },
    {
      "cell_type": "markdown",
      "metadata": {
        "id": "mGky0kg_ceCX"
      },
      "source": [
        "Following previous example"
      ]
    },
    {
      "cell_type": "code",
      "metadata": {
        "id": "Oqc4mUBtbC6X"
      },
      "source": [
        "# run this code\n",
        "\n",
        "import matplotlib.pyplot as plt\n",
        "%matplotlib inline\n",
        "\n",
        "plt.plot(history.history['accuracy'])\n",
        "plt.plot(history.history['val_accuracy'])\n",
        "plt.title('Model Accuracy')\n",
        "plt.ylabel('accuracy')\n",
        "plt.xlabel('epoch')\n",
        "plt.legend(['train', 'test'])\n",
        "plt.show()"
      ],
      "execution_count": null,
      "outputs": []
    },
    {
      "cell_type": "markdown",
      "metadata": {
        "id": "I0P4BkHZ3Tz-"
      },
      "source": [
        "Is this `overfitting`, `underfitting` or is it just ok? Analyze similar [example](https://aigeekprogrammer.com/convnets-and-overfitting/).\n",
        "\n",
        "**Put the answer to this question to your report.** \\\\\n",
        "**You can get 2 points for correct answer.**"
      ]
    },
    {
      "cell_type": "markdown",
      "metadata": {
        "id": "_REpwRjlehCg"
      },
      "source": [
        "Check the code marked as `### NEURAL NETWORK TRAINING ###` and choose other [metrics](https://keras.io/api/metrics/classification_metrics/).\n",
        "\n",
        "**Put the answer to this question to your report.** \\\\\n",
        "**You can get 2 points for correct answer.**"
      ]
    },
    {
      "cell_type": "code",
      "source": [
        "# changed code"
      ],
      "metadata": {
        "id": "-e5jGj5kR9si"
      },
      "execution_count": null,
      "outputs": []
    },
    {
      "cell_type": "markdown",
      "metadata": {
        "id": "UFRFIY8qevJ9"
      },
      "source": [
        "Try to visualize them as above."
      ]
    },
    {
      "cell_type": "code",
      "source": [
        "# visualise"
      ],
      "metadata": {
        "id": "EBTvpOLdR-cM"
      },
      "execution_count": null,
      "outputs": []
    },
    {
      "cell_type": "markdown",
      "metadata": {
        "id": "gQd7h3QOS84e"
      },
      "source": [
        "## End"
      ]
    },
    {
      "cell_type": "markdown",
      "metadata": {
        "id": "7slm0SPo6rhi"
      },
      "source": [
        "### Part 9: Share\n",
        "\n",
        "Share links to sources (articles, books, studies, etc.) that allowed you to answer questions from these labs.\n",
        "\n",
        "You can also upload other interesting AI and/or supervised learning materials.\n",
        "\n",
        "**Put the sources into your report.**"
      ]
    },
    {
      "cell_type": "markdown",
      "metadata": {
        "id": "eeLUyDj4TTVr"
      },
      "source": [
        "### Part 10: Feedback\n",
        "\n",
        "1. What was missing?\n",
        "2. Is there anything that you believe should be covered more thoroughly?\n",
        "3. Did you get interested in the topic?\n",
        "4. Would you like to know more?\n",
        "5. Was it worth it?\n",
        "\n",
        "**Put the feedback into your report.**"
      ]
    },
    {
      "cell_type": "markdown",
      "metadata": {
        "id": "ExjSEZPLT5B9"
      },
      "source": [
        "## Thank you!"
      ]
    },
    {
      "cell_type": "markdown",
      "metadata": {
        "id": "cgFYMB4jT627"
      },
      "source": [
        "Thank you for participation and you active presence!"
      ]
    }
  ]
}